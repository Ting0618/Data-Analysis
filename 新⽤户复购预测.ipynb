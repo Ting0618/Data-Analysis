{
 "metadata": {
  "language_info": {
   "codemirror_mode": {
    "name": "ipython",
    "version": 3
   },
   "file_extension": ".py",
   "mimetype": "text/x-python",
   "name": "python",
   "nbconvert_exporter": "python",
   "pygments_lexer": "ipython3",
   "version": "3.6.5-final"
  },
  "orig_nbformat": 2,
  "kernelspec": {
   "name": "python3",
   "display_name": "Python 3.6.5 64-bit",
   "metadata": {
    "interpreter": {
     "hash": "972acb42e8ddedf6ef9831dfe3d9ae46af6902ea967e1ee791c4a2f51698e356"
    }
   }
  }
 },
 "nbformat": 4,
 "nbformat_minor": 2,
 "cells": [
  {
   "cell_type": "code",
   "execution_count": 1,
   "metadata": {},
   "outputs": [],
   "source": [
    "import pandas as pd\n",
    "import numpy as np\n",
    "import matplotlib.pyplot as plt\n",
    "from scipy import stats"
   ]
  },
  {
   "source": [
    "## 处理用户信息表数据"
   ],
   "cell_type": "markdown",
   "metadata": {}
  },
  {
   "cell_type": "code",
   "execution_count": 2,
   "metadata": {},
   "outputs": [
    {
     "output_type": "execute_result",
     "data": {
      "text/plain": [
       "   user_id  age_range  gender\n",
       "0   376517        6.0     1.0\n",
       "1   234512        5.0     0.0\n",
       "2   344532        5.0     0.0\n",
       "3   186135        5.0     0.0\n",
       "4    30230        5.0     0.0"
      ],
      "text/html": "<div>\n<style scoped>\n    .dataframe tbody tr th:only-of-type {\n        vertical-align: middle;\n    }\n\n    .dataframe tbody tr th {\n        vertical-align: top;\n    }\n\n    .dataframe thead th {\n        text-align: right;\n    }\n</style>\n<table border=\"1\" class=\"dataframe\">\n  <thead>\n    <tr style=\"text-align: right;\">\n      <th></th>\n      <th>user_id</th>\n      <th>age_range</th>\n      <th>gender</th>\n    </tr>\n  </thead>\n  <tbody>\n    <tr>\n      <th>0</th>\n      <td>376517</td>\n      <td>6.0</td>\n      <td>1.0</td>\n    </tr>\n    <tr>\n      <th>1</th>\n      <td>234512</td>\n      <td>5.0</td>\n      <td>0.0</td>\n    </tr>\n    <tr>\n      <th>2</th>\n      <td>344532</td>\n      <td>5.0</td>\n      <td>0.0</td>\n    </tr>\n    <tr>\n      <th>3</th>\n      <td>186135</td>\n      <td>5.0</td>\n      <td>0.0</td>\n    </tr>\n    <tr>\n      <th>4</th>\n      <td>30230</td>\n      <td>5.0</td>\n      <td>0.0</td>\n    </tr>\n  </tbody>\n</table>\n</div>"
     },
     "metadata": {},
     "execution_count": 2
    }
   ],
   "source": [
    "user_info = pd.read_csv(\"../data/user_info.csv\")\n",
    "user_info.head()"
   ]
  },
  {
   "cell_type": "code",
   "execution_count": 3,
   "metadata": {},
   "outputs": [
    {
     "output_type": "stream",
     "name": "stdout",
     "text": [
      "<class 'pandas.core.frame.DataFrame'>\nRangeIndex: 424170 entries, 0 to 424169\nData columns (total 3 columns):\n #   Column     Non-Null Count   Dtype  \n---  ------     --------------   -----  \n 0   user_id    424170 non-null  int64  \n 1   age_range  421953 non-null  float64\n 2   gender     417734 non-null  float64\ndtypes: float64(2), int64(1)\nmemory usage: 9.7 MB\n"
     ]
    }
   ],
   "source": [
    "user_info.info()"
   ]
  },
  {
   "cell_type": "code",
   "execution_count": 4,
   "metadata": {},
   "outputs": [
    {
     "output_type": "execute_result",
     "data": {
      "text/plain": [
       "user_id         0\n",
       "age_range    2217\n",
       "gender       6436\n",
       "dtype: int64"
      ]
     },
     "metadata": {},
     "execution_count": 4
    }
   ],
   "source": [
    "user_info.isna().sum()"
   ]
  },
  {
   "cell_type": "code",
   "execution_count": 5,
   "metadata": {},
   "outputs": [
    {
     "output_type": "execute_result",
     "data": {
      "text/plain": [
       "user_id      424170\n",
       "age_range         9\n",
       "gender            3\n",
       "dtype: int64"
      ]
     },
     "metadata": {},
     "execution_count": 5
    }
   ],
   "source": [
    "user_info.nunique()"
   ]
  },
  {
   "cell_type": "code",
   "execution_count": 6,
   "metadata": {},
   "outputs": [],
   "source": [
    "# 删除带有空值的行\n",
    "user_info.dropna(axis=0,inplace=True)"
   ]
  },
  {
   "source": [
    "### 删除无效的行"
   ],
   "cell_type": "markdown",
   "metadata": {}
  },
  {
   "cell_type": "code",
   "execution_count": 7,
   "metadata": {},
   "outputs": [
    {
     "output_type": "execute_result",
     "data": {
      "text/plain": [
       "(99868, 3)"
      ]
     },
     "metadata": {},
     "execution_count": 7
    }
   ],
   "source": [
    "drop_data = user_info[(user_info.age_range == 0) | (user_info.gender == 2)]\n",
    "drop_data.shape"
   ]
  },
  {
   "cell_type": "code",
   "execution_count": 8,
   "metadata": {},
   "outputs": [
    {
     "output_type": "execute_result",
     "data": {
      "text/plain": [
       "(317840, 3)"
      ]
     },
     "metadata": {},
     "execution_count": 8
    }
   ],
   "source": [
    "drop_index = drop_data.index.values\n",
    "user_info = user_info.drop(drop_index)\n",
    "user_info.shape"
   ]
  },
  {
   "cell_type": "code",
   "execution_count": 9,
   "metadata": {},
   "outputs": [],
   "source": [
    "# 这里类型是 str 的话后面查数据查不到\n",
    "# user_info.user_id = user_info.user_id.astype('str')\n",
    "# user_info.age_range = user_info.age_range.astype('str')\n",
    "# user_info.gender = user_info.gender.astype('str')\n",
    "# user_info.info()"
   ]
  },
  {
   "cell_type": "code",
   "execution_count": 10,
   "metadata": {},
   "outputs": [],
   "source": [
    "user_info.age_range[user_info.age_range == 8] =7"
   ]
  },
  {
   "source": [
    "## 处理⽤户⾏为复购表数据"
   ],
   "cell_type": "markdown",
   "metadata": {}
  },
  {
   "cell_type": "code",
   "execution_count": 11,
   "metadata": {},
   "outputs": [
    {
     "output_type": "stream",
     "name": "stdout",
     "text": [
      "<class 'pandas.core.frame.DataFrame'>\nRangeIndex: 260864 entries, 0 to 260863\nData columns (total 3 columns):\n #   Column       Non-Null Count   Dtype\n---  ------       --------------   -----\n 0   user_id      260864 non-null  int64\n 1   merchant_id  260864 non-null  int64\n 2   label        260864 non-null  int64\ndtypes: int64(3)\nmemory usage: 6.0 MB\n"
     ]
    }
   ],
   "source": [
    "user_merchant = pd.read_csv(\"../data/user_merchant.csv\")\n",
    "user_merchant.info()"
   ]
  },
  {
   "cell_type": "code",
   "execution_count": 12,
   "metadata": {},
   "outputs": [
    {
     "output_type": "execute_result",
     "data": {
      "text/plain": [
       "user_id        0\n",
       "merchant_id    0\n",
       "label          0\n",
       "dtype: int64"
      ]
     },
     "metadata": {},
     "execution_count": 12
    }
   ],
   "source": [
    "user_merchant.isna().sum()"
   ]
  },
  {
   "cell_type": "code",
   "execution_count": 13,
   "metadata": {},
   "outputs": [
    {
     "output_type": "execute_result",
     "data": {
      "text/plain": [
       "       user_id merchant_id   label\n",
       "count   260864      260864  260864\n",
       "unique  212062        1993       2\n",
       "top     221133        4044       0\n",
       "freq        18        3379  244912"
      ],
      "text/html": "<div>\n<style scoped>\n    .dataframe tbody tr th:only-of-type {\n        vertical-align: middle;\n    }\n\n    .dataframe tbody tr th {\n        vertical-align: top;\n    }\n\n    .dataframe thead th {\n        text-align: right;\n    }\n</style>\n<table border=\"1\" class=\"dataframe\">\n  <thead>\n    <tr style=\"text-align: right;\">\n      <th></th>\n      <th>user_id</th>\n      <th>merchant_id</th>\n      <th>label</th>\n    </tr>\n  </thead>\n  <tbody>\n    <tr>\n      <th>count</th>\n      <td>260864</td>\n      <td>260864</td>\n      <td>260864</td>\n    </tr>\n    <tr>\n      <th>unique</th>\n      <td>212062</td>\n      <td>1993</td>\n      <td>2</td>\n    </tr>\n    <tr>\n      <th>top</th>\n      <td>221133</td>\n      <td>4044</td>\n      <td>0</td>\n    </tr>\n    <tr>\n      <th>freq</th>\n      <td>18</td>\n      <td>3379</td>\n      <td>244912</td>\n    </tr>\n  </tbody>\n</table>\n</div>"
     },
     "metadata": {},
     "execution_count": 13
    }
   ],
   "source": [
    "user_merchant.user_id = user_merchant.user_id.astype(\"str\")\n",
    "user_merchant.merchant_id = user_merchant.merchant_id .astype(\"str\")\n",
    "user_merchant.label = user_merchant.label .astype(\"str\")\n",
    "user_merchant.describe(include=\"all\")"
   ]
  },
  {
   "source": [
    "### 查看数据是否不平衡"
   ],
   "cell_type": "markdown",
   "metadata": {}
  },
  {
   "cell_type": "code",
   "execution_count": 14,
   "metadata": {},
   "outputs": [
    {
     "output_type": "execute_result",
     "data": {
      "text/plain": [
       "0.06115063788027478"
      ]
     },
     "metadata": {},
     "execution_count": 14
    }
   ],
   "source": [
    "user_merchant.label.value_counts()[1] / user_merchant.label.count()"
   ]
  },
  {
   "cell_type": "code",
   "execution_count": 15,
   "metadata": {},
   "outputs": [],
   "source": [
    "# 划分特征值和标签\n",
    "X = user_merchant.drop({'label'},axis =1)\n",
    "Y = user_merchant['label']"
   ]
  },
  {
   "cell_type": "code",
   "execution_count": 16,
   "metadata": {},
   "outputs": [],
   "source": [
    "# 欠采样方式处理数据\n",
    "from imblearn.under_sampling import NearMiss\n",
    "nm1 = NearMiss(version=1)\n",
    "X_resampled_nm1, y_resampled = nm1.fit_resample(X, Y)\n",
    "user_merchant = pd.concat([X_resampled_nm1,y_resampled],axis=1)"
   ]
  },
  {
   "cell_type": "code",
   "execution_count": 17,
   "metadata": {},
   "outputs": [
    {
     "output_type": "execute_result",
     "data": {
      "text/plain": [
       "        user_id  age_range  gender\n",
       "0        376517        6.0     1.0\n",
       "27       208701        5.0     0.0\n",
       "34       184971        4.0     0.0\n",
       "50       142152        5.0     0.0\n",
       "53       170951        5.0     0.0\n",
       "...         ...        ...     ...\n",
       "423987    60364        2.0     0.0\n",
       "424019   202723        3.0     0.0\n",
       "424032   319682        2.0     0.0\n",
       "424037   389654        4.0     0.0\n",
       "424123   274081        5.0     0.0\n",
       "\n",
       "[23125 rows x 3 columns]"
      ],
      "text/html": "<div>\n<style scoped>\n    .dataframe tbody tr th:only-of-type {\n        vertical-align: middle;\n    }\n\n    .dataframe tbody tr th {\n        vertical-align: top;\n    }\n\n    .dataframe thead th {\n        text-align: right;\n    }\n</style>\n<table border=\"1\" class=\"dataframe\">\n  <thead>\n    <tr style=\"text-align: right;\">\n      <th></th>\n      <th>user_id</th>\n      <th>age_range</th>\n      <th>gender</th>\n    </tr>\n  </thead>\n  <tbody>\n    <tr>\n      <th>0</th>\n      <td>376517</td>\n      <td>6.0</td>\n      <td>1.0</td>\n    </tr>\n    <tr>\n      <th>27</th>\n      <td>208701</td>\n      <td>5.0</td>\n      <td>0.0</td>\n    </tr>\n    <tr>\n      <th>34</th>\n      <td>184971</td>\n      <td>4.0</td>\n      <td>0.0</td>\n    </tr>\n    <tr>\n      <th>50</th>\n      <td>142152</td>\n      <td>5.0</td>\n      <td>0.0</td>\n    </tr>\n    <tr>\n      <th>53</th>\n      <td>170951</td>\n      <td>5.0</td>\n      <td>0.0</td>\n    </tr>\n    <tr>\n      <th>...</th>\n      <td>...</td>\n      <td>...</td>\n      <td>...</td>\n    </tr>\n    <tr>\n      <th>423987</th>\n      <td>60364</td>\n      <td>2.0</td>\n      <td>0.0</td>\n    </tr>\n    <tr>\n      <th>424019</th>\n      <td>202723</td>\n      <td>3.0</td>\n      <td>0.0</td>\n    </tr>\n    <tr>\n      <th>424032</th>\n      <td>319682</td>\n      <td>2.0</td>\n      <td>0.0</td>\n    </tr>\n    <tr>\n      <th>424037</th>\n      <td>389654</td>\n      <td>4.0</td>\n      <td>0.0</td>\n    </tr>\n    <tr>\n      <th>424123</th>\n      <td>274081</td>\n      <td>5.0</td>\n      <td>0.0</td>\n    </tr>\n  </tbody>\n</table>\n<p>23125 rows × 3 columns</p>\n</div>"
     },
     "metadata": {},
     "execution_count": 17
    }
   ],
   "source": [
    "user_info = user_info.loc[user_info.user_id.isin(user_merchant.user_id.unique()),:]\n",
    "user_info"
   ]
  },
  {
   "source": [
    "## 处理用户行为表数据"
   ],
   "cell_type": "markdown",
   "metadata": {}
  },
  {
   "cell_type": "code",
   "execution_count": 18,
   "metadata": {},
   "outputs": [
    {
     "output_type": "stream",
     "name": "stdout",
     "text": [
      "<class 'pandas.core.frame.DataFrame'>\nRangeIndex: 54925330 entries, 0 to 54925329\nData columns (total 7 columns):\n #   Column       Dtype  \n---  ------       -----  \n 0   user_id      int64  \n 1   item_id      int64  \n 2   cat_id       int64  \n 3   seller_id    int64  \n 4   brand_id     float64\n 5   time_stamp   int64  \n 6   action_type  int64  \ndtypes: float64(1), int64(6)\nmemory usage: 2.9 GB\n"
     ]
    }
   ],
   "source": [
    "user_log = pd.read_csv(\"../data/user_log.csv\")\n",
    "user_log.info()"
   ]
  },
  {
   "cell_type": "code",
   "execution_count": 19,
   "metadata": {},
   "outputs": [
    {
     "output_type": "stream",
     "name": "stdout",
     "text": [
      "<class 'pandas.core.frame.DataFrame'>\nInt64Index: 1972402 entries, 1691 to 54924616\nData columns (total 7 columns):\n #   Column       Dtype  \n---  ------       -----  \n 0   user_id      int64  \n 1   item_id      int64  \n 2   cat_id       int64  \n 3   seller_id    int64  \n 4   brand_id     float64\n 5   time_stamp   int64  \n 6   action_type  int64  \ndtypes: float64(1), int64(6)\nmemory usage: 120.4 MB\n"
     ]
    }
   ],
   "source": [
    "# 利用用户商铺表失衡数据处理的结果过滤用户行为表\n",
    "user_log = user_log.loc[user_log.user_id.isin(user_merchant.user_id.values),:]\n",
    "user_log = user_log.loc[user_log.seller_id.isin(user_merchant.merchant_id.values),:]\n",
    "user_log.info()"
   ]
  },
  {
   "cell_type": "code",
   "execution_count": 20,
   "metadata": {},
   "outputs": [
    {
     "output_type": "execute_result",
     "data": {
      "text/plain": [
       "user_id           0\n",
       "item_id           0\n",
       "cat_id            0\n",
       "seller_id         0\n",
       "brand_id       2938\n",
       "time_stamp        0\n",
       "action_type       0\n",
       "dtype: int64"
      ]
     },
     "metadata": {},
     "execution_count": 20
    }
   ],
   "source": [
    "# 查看是否有缺失值\n",
    "user_log.isna().sum()"
   ]
  },
  {
   "cell_type": "code",
   "execution_count": 21,
   "metadata": {},
   "outputs": [
    {
     "output_type": "execute_result",
     "data": {
      "text/plain": [
       "0.0014917764427275645"
      ]
     },
     "metadata": {},
     "execution_count": 21
    }
   ],
   "source": [
    "# 计算缺失率\n",
    "user_log['brand_id'].isna().sum() / user_log['brand_id'].count()"
   ]
  },
  {
   "cell_type": "code",
   "execution_count": 22,
   "metadata": {},
   "outputs": [
    {
     "output_type": "execute_result",
     "data": {
      "text/plain": [
       "user_id        0\n",
       "item_id        0\n",
       "cat_id         0\n",
       "seller_id      0\n",
       "brand_id       0\n",
       "time_stamp     0\n",
       "action_type    0\n",
       "dtype: int64"
      ]
     },
     "metadata": {},
     "execution_count": 22
    }
   ],
   "source": [
    "# 缺失值所占比率很小，所以我们可以把他删掉\n",
    "user_log.dropna(inplace=True)\n",
    "user_log.isna().sum()"
   ]
  },
  {
   "cell_type": "code",
   "execution_count": 23,
   "metadata": {},
   "outputs": [
    {
     "output_type": "execute_result",
     "data": {
      "text/plain": [
       "(1969464, 7)"
      ]
     },
     "metadata": {},
     "execution_count": 23
    }
   ],
   "source": [
    "user_log.shape"
   ]
  },
  {
   "source": [
    "## 用户特征提取"
   ],
   "cell_type": "markdown",
   "metadata": {}
  },
  {
   "cell_type": "code",
   "execution_count": 24,
   "metadata": {},
   "outputs": [
    {
     "output_type": "execute_result",
     "data": {
      "text/plain": [
       "         action_type\n",
       "user_id             \n",
       "1                 21\n",
       "4                 42\n",
       "7                  6\n",
       "14               313\n",
       "17                23"
      ],
      "text/html": "<div>\n<style scoped>\n    .dataframe tbody tr th:only-of-type {\n        vertical-align: middle;\n    }\n\n    .dataframe tbody tr th {\n        vertical-align: top;\n    }\n\n    .dataframe thead th {\n        text-align: right;\n    }\n</style>\n<table border=\"1\" class=\"dataframe\">\n  <thead>\n    <tr style=\"text-align: right;\">\n      <th></th>\n      <th>action_type</th>\n    </tr>\n    <tr>\n      <th>user_id</th>\n      <th></th>\n    </tr>\n  </thead>\n  <tbody>\n    <tr>\n      <th>1</th>\n      <td>21</td>\n    </tr>\n    <tr>\n      <th>4</th>\n      <td>42</td>\n    </tr>\n    <tr>\n      <th>7</th>\n      <td>6</td>\n    </tr>\n    <tr>\n      <th>14</th>\n      <td>313</td>\n    </tr>\n    <tr>\n      <th>17</th>\n      <td>23</td>\n    </tr>\n  </tbody>\n</table>\n</div>"
     },
     "metadata": {},
     "execution_count": 24
    }
   ],
   "source": [
    "#用户交互总次数\n",
    "user_feaut = user_log.groupby(\"user_id\")[\"action_type\"].count().to_frame()\n",
    "user_feaut.head()"
   ]
  },
  {
   "cell_type": "code",
   "execution_count": 25,
   "metadata": {},
   "outputs": [
    {
     "output_type": "execute_result",
     "data": {
      "text/plain": [
       "action_type      0   1     2    3\n",
       "user_id                          \n",
       "1             16.0 NaN   5.0  NaN\n",
       "4             41.0 NaN   1.0  NaN\n",
       "7              2.0 NaN   4.0  NaN\n",
       "14           290.0 NaN  18.0  5.0\n",
       "17            18.0 NaN   1.0  4.0"
      ],
      "text/html": "<div>\n<style scoped>\n    .dataframe tbody tr th:only-of-type {\n        vertical-align: middle;\n    }\n\n    .dataframe tbody tr th {\n        vertical-align: top;\n    }\n\n    .dataframe thead th {\n        text-align: right;\n    }\n</style>\n<table border=\"1\" class=\"dataframe\">\n  <thead>\n    <tr style=\"text-align: right;\">\n      <th>action_type</th>\n      <th>0</th>\n      <th>1</th>\n      <th>2</th>\n      <th>3</th>\n    </tr>\n    <tr>\n      <th>user_id</th>\n      <th></th>\n      <th></th>\n      <th></th>\n      <th></th>\n    </tr>\n  </thead>\n  <tbody>\n    <tr>\n      <th>1</th>\n      <td>16.0</td>\n      <td>NaN</td>\n      <td>5.0</td>\n      <td>NaN</td>\n    </tr>\n    <tr>\n      <th>4</th>\n      <td>41.0</td>\n      <td>NaN</td>\n      <td>1.0</td>\n      <td>NaN</td>\n    </tr>\n    <tr>\n      <th>7</th>\n      <td>2.0</td>\n      <td>NaN</td>\n      <td>4.0</td>\n      <td>NaN</td>\n    </tr>\n    <tr>\n      <th>14</th>\n      <td>290.0</td>\n      <td>NaN</td>\n      <td>18.0</td>\n      <td>5.0</td>\n    </tr>\n    <tr>\n      <th>17</th>\n      <td>18.0</td>\n      <td>NaN</td>\n      <td>1.0</td>\n      <td>4.0</td>\n    </tr>\n  </tbody>\n</table>\n</div>"
     },
     "metadata": {},
     "execution_count": 25
    }
   ],
   "source": [
    "#用户各种行为总次数统计（点击、加购、收藏和购买）\n",
    "user_feaut_2 =  pd.pivot_table(user_log,index=\"user_id\",columns=\"action_type\",values=\"cat_id\",aggfunc=\"count\")\n",
    "user_feaut_2.head()"
   ]
  },
  {
   "cell_type": "code",
   "execution_count": 26,
   "metadata": {},
   "outputs": [
    {
     "output_type": "execute_result",
     "data": {
      "text/plain": [
       "         action_type      0   1     2    3\n",
       "user_id                                   \n",
       "1                 21   16.0 NaN   5.0  NaN\n",
       "4                 42   41.0 NaN   1.0  NaN\n",
       "7                  6    2.0 NaN   4.0  NaN\n",
       "14               313  290.0 NaN  18.0  5.0\n",
       "17                23   18.0 NaN   1.0  4.0"
      ],
      "text/html": "<div>\n<style scoped>\n    .dataframe tbody tr th:only-of-type {\n        vertical-align: middle;\n    }\n\n    .dataframe tbody tr th {\n        vertical-align: top;\n    }\n\n    .dataframe thead th {\n        text-align: right;\n    }\n</style>\n<table border=\"1\" class=\"dataframe\">\n  <thead>\n    <tr style=\"text-align: right;\">\n      <th></th>\n      <th>action_type</th>\n      <th>0</th>\n      <th>1</th>\n      <th>2</th>\n      <th>3</th>\n    </tr>\n    <tr>\n      <th>user_id</th>\n      <th></th>\n      <th></th>\n      <th></th>\n      <th></th>\n      <th></th>\n    </tr>\n  </thead>\n  <tbody>\n    <tr>\n      <th>1</th>\n      <td>21</td>\n      <td>16.0</td>\n      <td>NaN</td>\n      <td>5.0</td>\n      <td>NaN</td>\n    </tr>\n    <tr>\n      <th>4</th>\n      <td>42</td>\n      <td>41.0</td>\n      <td>NaN</td>\n      <td>1.0</td>\n      <td>NaN</td>\n    </tr>\n    <tr>\n      <th>7</th>\n      <td>6</td>\n      <td>2.0</td>\n      <td>NaN</td>\n      <td>4.0</td>\n      <td>NaN</td>\n    </tr>\n    <tr>\n      <th>14</th>\n      <td>313</td>\n      <td>290.0</td>\n      <td>NaN</td>\n      <td>18.0</td>\n      <td>5.0</td>\n    </tr>\n    <tr>\n      <th>17</th>\n      <td>23</td>\n      <td>18.0</td>\n      <td>NaN</td>\n      <td>1.0</td>\n      <td>4.0</td>\n    </tr>\n  </tbody>\n</table>\n</div>"
     },
     "metadata": {},
     "execution_count": 26
    }
   ],
   "source": [
    "user_feaut = user_feaut.merge(user_feaut_2,on=\"user_id\")\n",
    "user_feaut.head()"
   ]
  },
  {
   "cell_type": "code",
   "execution_count": 27,
   "metadata": {},
   "outputs": [
    {
     "output_type": "execute_result",
     "data": {
      "text/plain": [
       "         total_log  click  add_car   buy  collect\n",
       "user_id                                          \n",
       "1               21   16.0      NaN   5.0      NaN\n",
       "4               42   41.0      NaN   1.0      NaN\n",
       "7                6    2.0      NaN   4.0      NaN\n",
       "14             313  290.0      NaN  18.0      5.0\n",
       "17              23   18.0      NaN   1.0      4.0"
      ],
      "text/html": "<div>\n<style scoped>\n    .dataframe tbody tr th:only-of-type {\n        vertical-align: middle;\n    }\n\n    .dataframe tbody tr th {\n        vertical-align: top;\n    }\n\n    .dataframe thead th {\n        text-align: right;\n    }\n</style>\n<table border=\"1\" class=\"dataframe\">\n  <thead>\n    <tr style=\"text-align: right;\">\n      <th></th>\n      <th>total_log</th>\n      <th>click</th>\n      <th>add_car</th>\n      <th>buy</th>\n      <th>collect</th>\n    </tr>\n    <tr>\n      <th>user_id</th>\n      <th></th>\n      <th></th>\n      <th></th>\n      <th></th>\n      <th></th>\n    </tr>\n  </thead>\n  <tbody>\n    <tr>\n      <th>1</th>\n      <td>21</td>\n      <td>16.0</td>\n      <td>NaN</td>\n      <td>5.0</td>\n      <td>NaN</td>\n    </tr>\n    <tr>\n      <th>4</th>\n      <td>42</td>\n      <td>41.0</td>\n      <td>NaN</td>\n      <td>1.0</td>\n      <td>NaN</td>\n    </tr>\n    <tr>\n      <th>7</th>\n      <td>6</td>\n      <td>2.0</td>\n      <td>NaN</td>\n      <td>4.0</td>\n      <td>NaN</td>\n    </tr>\n    <tr>\n      <th>14</th>\n      <td>313</td>\n      <td>290.0</td>\n      <td>NaN</td>\n      <td>18.0</td>\n      <td>5.0</td>\n    </tr>\n    <tr>\n      <th>17</th>\n      <td>23</td>\n      <td>18.0</td>\n      <td>NaN</td>\n      <td>1.0</td>\n      <td>4.0</td>\n    </tr>\n  </tbody>\n</table>\n</div>"
     },
     "metadata": {},
     "execution_count": 27
    }
   ],
   "source": [
    "user_feaut.columns =[\"total_log\",\"click\",\"add_car\",\"buy\",\"collect\"]\n",
    "user_feaut.head()"
   ]
  },
  {
   "cell_type": "code",
   "execution_count": 28,
   "metadata": {},
   "outputs": [
    {
     "output_type": "execute_result",
     "data": {
      "text/plain": [
       "         seller_id  item_id  cat_id  brand_id\n",
       "user_id                                      \n",
       "1                4        4       3         4\n",
       "4                6       20      10         6\n",
       "7                2        5       3         2\n",
       "14              40      177      34        38\n",
       "17               4        8       5         4"
      ],
      "text/html": "<div>\n<style scoped>\n    .dataframe tbody tr th:only-of-type {\n        vertical-align: middle;\n    }\n\n    .dataframe tbody tr th {\n        vertical-align: top;\n    }\n\n    .dataframe thead th {\n        text-align: right;\n    }\n</style>\n<table border=\"1\" class=\"dataframe\">\n  <thead>\n    <tr style=\"text-align: right;\">\n      <th></th>\n      <th>seller_id</th>\n      <th>item_id</th>\n      <th>cat_id</th>\n      <th>brand_id</th>\n    </tr>\n    <tr>\n      <th>user_id</th>\n      <th></th>\n      <th></th>\n      <th></th>\n      <th></th>\n    </tr>\n  </thead>\n  <tbody>\n    <tr>\n      <th>1</th>\n      <td>4</td>\n      <td>4</td>\n      <td>3</td>\n      <td>4</td>\n    </tr>\n    <tr>\n      <th>4</th>\n      <td>6</td>\n      <td>20</td>\n      <td>10</td>\n      <td>6</td>\n    </tr>\n    <tr>\n      <th>7</th>\n      <td>2</td>\n      <td>5</td>\n      <td>3</td>\n      <td>2</td>\n    </tr>\n    <tr>\n      <th>14</th>\n      <td>40</td>\n      <td>177</td>\n      <td>34</td>\n      <td>38</td>\n    </tr>\n    <tr>\n      <th>17</th>\n      <td>4</td>\n      <td>8</td>\n      <td>5</td>\n      <td>4</td>\n    </tr>\n  </tbody>\n</table>\n</div>"
     },
     "metadata": {},
     "execution_count": 28
    }
   ],
   "source": [
    "user_feaut_2 = user_log.groupby(\"user_id\")[\"seller_id\",\"item_id\",\"cat_id\",\"brand_id\"].nunique()\n",
    "user_feaut_2.head()"
   ]
  },
  {
   "cell_type": "code",
   "execution_count": 29,
   "metadata": {},
   "outputs": [
    {
     "output_type": "execute_result",
     "data": {
      "text/plain": [
       "         seller_count  item_count  cat_count  brand_count\n",
       "user_id                                                  \n",
       "1                   4           4          3            4\n",
       "4                   6          20         10            6\n",
       "7                   2           5          3            2\n",
       "14                 40         177         34           38\n",
       "17                  4           8          5            4"
      ],
      "text/html": "<div>\n<style scoped>\n    .dataframe tbody tr th:only-of-type {\n        vertical-align: middle;\n    }\n\n    .dataframe tbody tr th {\n        vertical-align: top;\n    }\n\n    .dataframe thead th {\n        text-align: right;\n    }\n</style>\n<table border=\"1\" class=\"dataframe\">\n  <thead>\n    <tr style=\"text-align: right;\">\n      <th></th>\n      <th>seller_count</th>\n      <th>item_count</th>\n      <th>cat_count</th>\n      <th>brand_count</th>\n    </tr>\n    <tr>\n      <th>user_id</th>\n      <th></th>\n      <th></th>\n      <th></th>\n      <th></th>\n    </tr>\n  </thead>\n  <tbody>\n    <tr>\n      <th>1</th>\n      <td>4</td>\n      <td>4</td>\n      <td>3</td>\n      <td>4</td>\n    </tr>\n    <tr>\n      <th>4</th>\n      <td>6</td>\n      <td>20</td>\n      <td>10</td>\n      <td>6</td>\n    </tr>\n    <tr>\n      <th>7</th>\n      <td>2</td>\n      <td>5</td>\n      <td>3</td>\n      <td>2</td>\n    </tr>\n    <tr>\n      <th>14</th>\n      <td>40</td>\n      <td>177</td>\n      <td>34</td>\n      <td>38</td>\n    </tr>\n    <tr>\n      <th>17</th>\n      <td>4</td>\n      <td>8</td>\n      <td>5</td>\n      <td>4</td>\n    </tr>\n  </tbody>\n</table>\n</div>"
     },
     "metadata": {},
     "execution_count": 29
    }
   ],
   "source": [
    "user_feaut_2.columns = [\"seller_count\",\"item_count\",\"cat_count\",\"brand_count\"]\n",
    "user_feaut_2.head()"
   ]
  },
  {
   "cell_type": "code",
   "execution_count": 30,
   "metadata": {},
   "outputs": [
    {
     "output_type": "execute_result",
     "data": {
      "text/plain": [
       "         total_log  click  add_car   buy  collect  seller_count  item_count  \\\n",
       "user_id                                                                       \n",
       "1               21   16.0      NaN   5.0      NaN             4           4   \n",
       "4               42   41.0      NaN   1.0      NaN             6          20   \n",
       "7                6    2.0      NaN   4.0      NaN             2           5   \n",
       "14             313  290.0      NaN  18.0      5.0            40         177   \n",
       "17              23   18.0      NaN   1.0      4.0             4           8   \n",
       "\n",
       "         cat_count  brand_count  \n",
       "user_id                          \n",
       "1                3            4  \n",
       "4               10            6  \n",
       "7                3            2  \n",
       "14              34           38  \n",
       "17               5            4  "
      ],
      "text/html": "<div>\n<style scoped>\n    .dataframe tbody tr th:only-of-type {\n        vertical-align: middle;\n    }\n\n    .dataframe tbody tr th {\n        vertical-align: top;\n    }\n\n    .dataframe thead th {\n        text-align: right;\n    }\n</style>\n<table border=\"1\" class=\"dataframe\">\n  <thead>\n    <tr style=\"text-align: right;\">\n      <th></th>\n      <th>total_log</th>\n      <th>click</th>\n      <th>add_car</th>\n      <th>buy</th>\n      <th>collect</th>\n      <th>seller_count</th>\n      <th>item_count</th>\n      <th>cat_count</th>\n      <th>brand_count</th>\n    </tr>\n    <tr>\n      <th>user_id</th>\n      <th></th>\n      <th></th>\n      <th></th>\n      <th></th>\n      <th></th>\n      <th></th>\n      <th></th>\n      <th></th>\n      <th></th>\n    </tr>\n  </thead>\n  <tbody>\n    <tr>\n      <th>1</th>\n      <td>21</td>\n      <td>16.0</td>\n      <td>NaN</td>\n      <td>5.0</td>\n      <td>NaN</td>\n      <td>4</td>\n      <td>4</td>\n      <td>3</td>\n      <td>4</td>\n    </tr>\n    <tr>\n      <th>4</th>\n      <td>42</td>\n      <td>41.0</td>\n      <td>NaN</td>\n      <td>1.0</td>\n      <td>NaN</td>\n      <td>6</td>\n      <td>20</td>\n      <td>10</td>\n      <td>6</td>\n    </tr>\n    <tr>\n      <th>7</th>\n      <td>6</td>\n      <td>2.0</td>\n      <td>NaN</td>\n      <td>4.0</td>\n      <td>NaN</td>\n      <td>2</td>\n      <td>5</td>\n      <td>3</td>\n      <td>2</td>\n    </tr>\n    <tr>\n      <th>14</th>\n      <td>313</td>\n      <td>290.0</td>\n      <td>NaN</td>\n      <td>18.0</td>\n      <td>5.0</td>\n      <td>40</td>\n      <td>177</td>\n      <td>34</td>\n      <td>38</td>\n    </tr>\n    <tr>\n      <th>17</th>\n      <td>23</td>\n      <td>18.0</td>\n      <td>NaN</td>\n      <td>1.0</td>\n      <td>4.0</td>\n      <td>4</td>\n      <td>8</td>\n      <td>5</td>\n      <td>4</td>\n    </tr>\n  </tbody>\n</table>\n</div>"
     },
     "metadata": {},
     "execution_count": 30
    }
   ],
   "source": [
    "user_feaut = user_feaut.merge(user_feaut_2,on=\"user_id\") \n",
    "user_feaut.head()"
   ]
  },
  {
   "cell_type": "code",
   "execution_count": 31,
   "metadata": {},
   "outputs": [
    {
     "output_type": "execute_result",
     "data": {
      "text/plain": [
       "      user_id  item_id  cat_id  seller_id  brand_id  time_stamp  action_type  \\\n",
       "1691    26516   416965    1401        586    5579.0        1107            0   \n",
       "1692    26516   416965    1401        586    5579.0        1107            0   \n",
       "1693    26516   416965    1401        586    5579.0        1107            0   \n",
       "1694    26516   352345     177       2565    8149.0        1101            0   \n",
       "1718    26516   142231     177       2565    8149.0        1101            0   \n",
       "\n",
       "      month  day  \n",
       "1691     11    7  \n",
       "1692     11    7  \n",
       "1693     11    7  \n",
       "1694     11    1  \n",
       "1718     11    1  "
      ],
      "text/html": "<div>\n<style scoped>\n    .dataframe tbody tr th:only-of-type {\n        vertical-align: middle;\n    }\n\n    .dataframe tbody tr th {\n        vertical-align: top;\n    }\n\n    .dataframe thead th {\n        text-align: right;\n    }\n</style>\n<table border=\"1\" class=\"dataframe\">\n  <thead>\n    <tr style=\"text-align: right;\">\n      <th></th>\n      <th>user_id</th>\n      <th>item_id</th>\n      <th>cat_id</th>\n      <th>seller_id</th>\n      <th>brand_id</th>\n      <th>time_stamp</th>\n      <th>action_type</th>\n      <th>month</th>\n      <th>day</th>\n    </tr>\n  </thead>\n  <tbody>\n    <tr>\n      <th>1691</th>\n      <td>26516</td>\n      <td>416965</td>\n      <td>1401</td>\n      <td>586</td>\n      <td>5579.0</td>\n      <td>1107</td>\n      <td>0</td>\n      <td>11</td>\n      <td>7</td>\n    </tr>\n    <tr>\n      <th>1692</th>\n      <td>26516</td>\n      <td>416965</td>\n      <td>1401</td>\n      <td>586</td>\n      <td>5579.0</td>\n      <td>1107</td>\n      <td>0</td>\n      <td>11</td>\n      <td>7</td>\n    </tr>\n    <tr>\n      <th>1693</th>\n      <td>26516</td>\n      <td>416965</td>\n      <td>1401</td>\n      <td>586</td>\n      <td>5579.0</td>\n      <td>1107</td>\n      <td>0</td>\n      <td>11</td>\n      <td>7</td>\n    </tr>\n    <tr>\n      <th>1694</th>\n      <td>26516</td>\n      <td>352345</td>\n      <td>177</td>\n      <td>2565</td>\n      <td>8149.0</td>\n      <td>1101</td>\n      <td>0</td>\n      <td>11</td>\n      <td>1</td>\n    </tr>\n    <tr>\n      <th>1718</th>\n      <td>26516</td>\n      <td>142231</td>\n      <td>177</td>\n      <td>2565</td>\n      <td>8149.0</td>\n      <td>1101</td>\n      <td>0</td>\n      <td>11</td>\n      <td>1</td>\n    </tr>\n  </tbody>\n</table>\n</div>"
     },
     "metadata": {},
     "execution_count": 31
    }
   ],
   "source": [
    "#从时间戳中提月和日\n",
    "user_log[\"month\"] = user_log.time_stamp // 100;\n",
    "user_log[\"day\"] = user_log.time_stamp % 100;\n",
    "user_log.head()"
   ]
  },
  {
   "cell_type": "code",
   "execution_count": 32,
   "metadata": {},
   "outputs": [
    {
     "output_type": "execute_result",
     "data": {
      "text/plain": [
       "         month_count  day_count\n",
       "user_id                        \n",
       "1                  2          3\n",
       "4                  5          9\n",
       "7                  2          3\n",
       "14                 7         48\n",
       "17                 3          6"
      ],
      "text/html": "<div>\n<style scoped>\n    .dataframe tbody tr th:only-of-type {\n        vertical-align: middle;\n    }\n\n    .dataframe tbody tr th {\n        vertical-align: top;\n    }\n\n    .dataframe thead th {\n        text-align: right;\n    }\n</style>\n<table border=\"1\" class=\"dataframe\">\n  <thead>\n    <tr style=\"text-align: right;\">\n      <th></th>\n      <th>month_count</th>\n      <th>day_count</th>\n    </tr>\n    <tr>\n      <th>user_id</th>\n      <th></th>\n      <th></th>\n    </tr>\n  </thead>\n  <tbody>\n    <tr>\n      <th>1</th>\n      <td>2</td>\n      <td>3</td>\n    </tr>\n    <tr>\n      <th>4</th>\n      <td>5</td>\n      <td>9</td>\n    </tr>\n    <tr>\n      <th>7</th>\n      <td>2</td>\n      <td>3</td>\n    </tr>\n    <tr>\n      <th>14</th>\n      <td>7</td>\n      <td>48</td>\n    </tr>\n    <tr>\n      <th>17</th>\n      <td>3</td>\n      <td>6</td>\n    </tr>\n  </tbody>\n</table>\n</div>"
     },
     "metadata": {},
     "execution_count": 32
    }
   ],
   "source": [
    "# 用户平均每天交互、购买的次数 ，用户平均每月交互、购买的次数\n",
    "user_feaut_2 = user_log.groupby(\"user_id\")[\"month\",\"time_stamp\"].nunique()\n",
    "user_feaut_2.columns = [\"month_count\",\"day_count\"]\n",
    "user_feaut_2.head()"
   ]
  },
  {
   "cell_type": "code",
   "execution_count": 33,
   "metadata": {},
   "outputs": [
    {
     "output_type": "execute_result",
     "data": {
      "text/plain": [
       "         total_log  click  add_car   buy  collect  seller_count  item_count  \\\n",
       "user_id                                                                       \n",
       "1               21   16.0      NaN   5.0      NaN             4           4   \n",
       "4               42   41.0      NaN   1.0      NaN             6          20   \n",
       "7                6    2.0      NaN   4.0      NaN             2           5   \n",
       "14             313  290.0      NaN  18.0      5.0            40         177   \n",
       "17              23   18.0      NaN   1.0      4.0             4           8   \n",
       "\n",
       "         cat_count  brand_count  month_count  day_count  \n",
       "user_id                                                  \n",
       "1                3            4            2          3  \n",
       "4               10            6            5          9  \n",
       "7                3            2            2          3  \n",
       "14              34           38            7         48  \n",
       "17               5            4            3          6  "
      ],
      "text/html": "<div>\n<style scoped>\n    .dataframe tbody tr th:only-of-type {\n        vertical-align: middle;\n    }\n\n    .dataframe tbody tr th {\n        vertical-align: top;\n    }\n\n    .dataframe thead th {\n        text-align: right;\n    }\n</style>\n<table border=\"1\" class=\"dataframe\">\n  <thead>\n    <tr style=\"text-align: right;\">\n      <th></th>\n      <th>total_log</th>\n      <th>click</th>\n      <th>add_car</th>\n      <th>buy</th>\n      <th>collect</th>\n      <th>seller_count</th>\n      <th>item_count</th>\n      <th>cat_count</th>\n      <th>brand_count</th>\n      <th>month_count</th>\n      <th>day_count</th>\n    </tr>\n    <tr>\n      <th>user_id</th>\n      <th></th>\n      <th></th>\n      <th></th>\n      <th></th>\n      <th></th>\n      <th></th>\n      <th></th>\n      <th></th>\n      <th></th>\n      <th></th>\n      <th></th>\n    </tr>\n  </thead>\n  <tbody>\n    <tr>\n      <th>1</th>\n      <td>21</td>\n      <td>16.0</td>\n      <td>NaN</td>\n      <td>5.0</td>\n      <td>NaN</td>\n      <td>4</td>\n      <td>4</td>\n      <td>3</td>\n      <td>4</td>\n      <td>2</td>\n      <td>3</td>\n    </tr>\n    <tr>\n      <th>4</th>\n      <td>42</td>\n      <td>41.0</td>\n      <td>NaN</td>\n      <td>1.0</td>\n      <td>NaN</td>\n      <td>6</td>\n      <td>20</td>\n      <td>10</td>\n      <td>6</td>\n      <td>5</td>\n      <td>9</td>\n    </tr>\n    <tr>\n      <th>7</th>\n      <td>6</td>\n      <td>2.0</td>\n      <td>NaN</td>\n      <td>4.0</td>\n      <td>NaN</td>\n      <td>2</td>\n      <td>5</td>\n      <td>3</td>\n      <td>2</td>\n      <td>2</td>\n      <td>3</td>\n    </tr>\n    <tr>\n      <th>14</th>\n      <td>313</td>\n      <td>290.0</td>\n      <td>NaN</td>\n      <td>18.0</td>\n      <td>5.0</td>\n      <td>40</td>\n      <td>177</td>\n      <td>34</td>\n      <td>38</td>\n      <td>7</td>\n      <td>48</td>\n    </tr>\n    <tr>\n      <th>17</th>\n      <td>23</td>\n      <td>18.0</td>\n      <td>NaN</td>\n      <td>1.0</td>\n      <td>4.0</td>\n      <td>4</td>\n      <td>8</td>\n      <td>5</td>\n      <td>4</td>\n      <td>3</td>\n      <td>6</td>\n    </tr>\n  </tbody>\n</table>\n</div>"
     },
     "metadata": {},
     "execution_count": 33
    }
   ],
   "source": [
    "user_feaut = user_feaut.merge(user_feaut_2,on=\"user_id\") \n",
    "user_feaut.head()"
   ]
  },
  {
   "cell_type": "code",
   "execution_count": 34,
   "metadata": {},
   "outputs": [
    {
     "output_type": "execute_result",
     "data": {
      "text/plain": [
       "         total_log  click  add_car   buy  collect  seller_count  item_count  \\\n",
       "user_id                                                                       \n",
       "1               21   16.0      NaN   5.0      NaN             4           4   \n",
       "4               42   41.0      NaN   1.0      NaN             6          20   \n",
       "7                6    2.0      NaN   4.0      NaN             2           5   \n",
       "14             313  290.0      NaN  18.0      5.0            40         177   \n",
       "17              23   18.0      NaN   1.0      4.0             4           8   \n",
       "\n",
       "         cat_count  brand_count  month_count  day_count  month_avg_log  \\\n",
       "user_id                                                                  \n",
       "1                3            4            2          3      10.500000   \n",
       "4               10            6            5          9       8.400000   \n",
       "7                3            2            2          3       3.000000   \n",
       "14              34           38            7         48      44.714286   \n",
       "17               5            4            3          6       7.666667   \n",
       "\n",
       "         month_avg_buy  day_avg_log  day_avg_buy  \n",
       "user_id                                           \n",
       "1             2.500000     7.000000     1.666667  \n",
       "4             0.200000     4.666667     0.111111  \n",
       "7             2.000000     2.000000     1.333333  \n",
       "14            2.571429     6.520833     0.375000  \n",
       "17            0.333333     3.833333     0.166667  "
      ],
      "text/html": "<div>\n<style scoped>\n    .dataframe tbody tr th:only-of-type {\n        vertical-align: middle;\n    }\n\n    .dataframe tbody tr th {\n        vertical-align: top;\n    }\n\n    .dataframe thead th {\n        text-align: right;\n    }\n</style>\n<table border=\"1\" class=\"dataframe\">\n  <thead>\n    <tr style=\"text-align: right;\">\n      <th></th>\n      <th>total_log</th>\n      <th>click</th>\n      <th>add_car</th>\n      <th>buy</th>\n      <th>collect</th>\n      <th>seller_count</th>\n      <th>item_count</th>\n      <th>cat_count</th>\n      <th>brand_count</th>\n      <th>month_count</th>\n      <th>day_count</th>\n      <th>month_avg_log</th>\n      <th>month_avg_buy</th>\n      <th>day_avg_log</th>\n      <th>day_avg_buy</th>\n    </tr>\n    <tr>\n      <th>user_id</th>\n      <th></th>\n      <th></th>\n      <th></th>\n      <th></th>\n      <th></th>\n      <th></th>\n      <th></th>\n      <th></th>\n      <th></th>\n      <th></th>\n      <th></th>\n      <th></th>\n      <th></th>\n      <th></th>\n      <th></th>\n    </tr>\n  </thead>\n  <tbody>\n    <tr>\n      <th>1</th>\n      <td>21</td>\n      <td>16.0</td>\n      <td>NaN</td>\n      <td>5.0</td>\n      <td>NaN</td>\n      <td>4</td>\n      <td>4</td>\n      <td>3</td>\n      <td>4</td>\n      <td>2</td>\n      <td>3</td>\n      <td>10.500000</td>\n      <td>2.500000</td>\n      <td>7.000000</td>\n      <td>1.666667</td>\n    </tr>\n    <tr>\n      <th>4</th>\n      <td>42</td>\n      <td>41.0</td>\n      <td>NaN</td>\n      <td>1.0</td>\n      <td>NaN</td>\n      <td>6</td>\n      <td>20</td>\n      <td>10</td>\n      <td>6</td>\n      <td>5</td>\n      <td>9</td>\n      <td>8.400000</td>\n      <td>0.200000</td>\n      <td>4.666667</td>\n      <td>0.111111</td>\n    </tr>\n    <tr>\n      <th>7</th>\n      <td>6</td>\n      <td>2.0</td>\n      <td>NaN</td>\n      <td>4.0</td>\n      <td>NaN</td>\n      <td>2</td>\n      <td>5</td>\n      <td>3</td>\n      <td>2</td>\n      <td>2</td>\n      <td>3</td>\n      <td>3.000000</td>\n      <td>2.000000</td>\n      <td>2.000000</td>\n      <td>1.333333</td>\n    </tr>\n    <tr>\n      <th>14</th>\n      <td>313</td>\n      <td>290.0</td>\n      <td>NaN</td>\n      <td>18.0</td>\n      <td>5.0</td>\n      <td>40</td>\n      <td>177</td>\n      <td>34</td>\n      <td>38</td>\n      <td>7</td>\n      <td>48</td>\n      <td>44.714286</td>\n      <td>2.571429</td>\n      <td>6.520833</td>\n      <td>0.375000</td>\n    </tr>\n    <tr>\n      <th>17</th>\n      <td>23</td>\n      <td>18.0</td>\n      <td>NaN</td>\n      <td>1.0</td>\n      <td>4.0</td>\n      <td>4</td>\n      <td>8</td>\n      <td>5</td>\n      <td>4</td>\n      <td>3</td>\n      <td>6</td>\n      <td>7.666667</td>\n      <td>0.333333</td>\n      <td>3.833333</td>\n      <td>0.166667</td>\n    </tr>\n  </tbody>\n</table>\n</div>"
     },
     "metadata": {},
     "execution_count": 34
    }
   ],
   "source": [
    "user_feaut[\"month_avg_log\"] = user_feaut.total_log/user_feaut.month_count\n",
    "user_feaut[\"month_avg_buy\"] =np.where(user_feaut.buy.isna(),0,user_feaut.buy/user_feaut.month_count)\n",
    "user_feaut[\"day_avg_log\"] = user_feaut.total_log/user_feaut.day_count\n",
    "user_feaut[\"day_avg_buy\"] =np.where(user_feaut.buy.isna(),0,user_feaut.buy/user_feaut.day_count)\n",
    "user_feaut.head()"
   ]
  },
  {
   "cell_type": "code",
   "execution_count": 35,
   "metadata": {},
   "outputs": [],
   "source": [
    "#删除特征提取的临时数据框\n",
    "del user_feaut_2"
   ]
  },
  {
   "source": [
    "## 商铺特征提取"
   ],
   "cell_type": "markdown",
   "metadata": {}
  },
  {
   "cell_type": "code",
   "execution_count": 36,
   "metadata": {},
   "outputs": [
    {
     "output_type": "execute_result",
     "data": {
      "text/plain": [
       "           user_id\n",
       "seller_id         \n",
       "2              214\n",
       "8              305\n",
       "9              242\n",
       "10            1658\n",
       "13             681"
      ],
      "text/html": "<div>\n<style scoped>\n    .dataframe tbody tr th:only-of-type {\n        vertical-align: middle;\n    }\n\n    .dataframe tbody tr th {\n        vertical-align: top;\n    }\n\n    .dataframe thead th {\n        text-align: right;\n    }\n</style>\n<table border=\"1\" class=\"dataframe\">\n  <thead>\n    <tr style=\"text-align: right;\">\n      <th></th>\n      <th>user_id</th>\n    </tr>\n    <tr>\n      <th>seller_id</th>\n      <th></th>\n    </tr>\n  </thead>\n  <tbody>\n    <tr>\n      <th>2</th>\n      <td>214</td>\n    </tr>\n    <tr>\n      <th>8</th>\n      <td>305</td>\n    </tr>\n    <tr>\n      <th>9</th>\n      <td>242</td>\n    </tr>\n    <tr>\n      <th>10</th>\n      <td>1658</td>\n    </tr>\n    <tr>\n      <th>13</th>\n      <td>681</td>\n    </tr>\n  </tbody>\n</table>\n</div>"
     },
     "metadata": {},
     "execution_count": 36
    }
   ],
   "source": [
    "#商铺下所有交互总次数\n",
    "shop_feaut = user_log.groupby(\"seller_id\")[\"user_id\"].count().to_frame()\n",
    "shop_feaut.head()"
   ]
  },
  {
   "cell_type": "code",
   "execution_count": 37,
   "metadata": {},
   "outputs": [
    {
     "output_type": "execute_result",
     "data": {
      "text/plain": [
       "           total_count\n",
       "seller_id             \n",
       "2                  214\n",
       "8                  305\n",
       "9                  242\n",
       "10                1658\n",
       "13                 681"
      ],
      "text/html": "<div>\n<style scoped>\n    .dataframe tbody tr th:only-of-type {\n        vertical-align: middle;\n    }\n\n    .dataframe tbody tr th {\n        vertical-align: top;\n    }\n\n    .dataframe thead th {\n        text-align: right;\n    }\n</style>\n<table border=\"1\" class=\"dataframe\">\n  <thead>\n    <tr style=\"text-align: right;\">\n      <th></th>\n      <th>total_count</th>\n    </tr>\n    <tr>\n      <th>seller_id</th>\n      <th></th>\n    </tr>\n  </thead>\n  <tbody>\n    <tr>\n      <th>2</th>\n      <td>214</td>\n    </tr>\n    <tr>\n      <th>8</th>\n      <td>305</td>\n    </tr>\n    <tr>\n      <th>9</th>\n      <td>242</td>\n    </tr>\n    <tr>\n      <th>10</th>\n      <td>1658</td>\n    </tr>\n    <tr>\n      <th>13</th>\n      <td>681</td>\n    </tr>\n  </tbody>\n</table>\n</div>"
     },
     "metadata": {},
     "execution_count": 37
    }
   ],
   "source": [
    "shop_feaut.columns=[\"total_count\"]\n",
    "shop_feaut.head()"
   ]
  },
  {
   "cell_type": "code",
   "execution_count": 38,
   "metadata": {},
   "outputs": [
    {
     "output_type": "execute_result",
     "data": {
      "text/plain": [
       "action_type       0   1      2     3\n",
       "seller_id                           \n",
       "2             181.0 NaN   23.0  10.0\n",
       "8             258.0 NaN   30.0  17.0\n",
       "9             219.0 NaN   14.0   9.0\n",
       "10           1529.0 NaN   72.0  57.0\n",
       "13            567.0 NaN  100.0  14.0"
      ],
      "text/html": "<div>\n<style scoped>\n    .dataframe tbody tr th:only-of-type {\n        vertical-align: middle;\n    }\n\n    .dataframe tbody tr th {\n        vertical-align: top;\n    }\n\n    .dataframe thead th {\n        text-align: right;\n    }\n</style>\n<table border=\"1\" class=\"dataframe\">\n  <thead>\n    <tr style=\"text-align: right;\">\n      <th>action_type</th>\n      <th>0</th>\n      <th>1</th>\n      <th>2</th>\n      <th>3</th>\n    </tr>\n    <tr>\n      <th>seller_id</th>\n      <th></th>\n      <th></th>\n      <th></th>\n      <th></th>\n    </tr>\n  </thead>\n  <tbody>\n    <tr>\n      <th>2</th>\n      <td>181.0</td>\n      <td>NaN</td>\n      <td>23.0</td>\n      <td>10.0</td>\n    </tr>\n    <tr>\n      <th>8</th>\n      <td>258.0</td>\n      <td>NaN</td>\n      <td>30.0</td>\n      <td>17.0</td>\n    </tr>\n    <tr>\n      <th>9</th>\n      <td>219.0</td>\n      <td>NaN</td>\n      <td>14.0</td>\n      <td>9.0</td>\n    </tr>\n    <tr>\n      <th>10</th>\n      <td>1529.0</td>\n      <td>NaN</td>\n      <td>72.0</td>\n      <td>57.0</td>\n    </tr>\n    <tr>\n      <th>13</th>\n      <td>567.0</td>\n      <td>NaN</td>\n      <td>100.0</td>\n      <td>14.0</td>\n    </tr>\n  </tbody>\n</table>\n</div>"
     },
     "metadata": {},
     "execution_count": 38
    }
   ],
   "source": [
    "#商铺下各种行为总次数统计（点击、加购、收藏和购买）\n",
    "shop_feaut_2 = pd.pivot_table(user_log,index=\"seller_id\",columns=\"action_type\",values=\"user_id\",aggfunc=\"count\")\n",
    "shop_feaut_2.head()"
   ]
  },
  {
   "cell_type": "code",
   "execution_count": 39,
   "metadata": {},
   "outputs": [
    {
     "output_type": "execute_result",
     "data": {
      "text/plain": [
       "           total_count       0   1      2     3\n",
       "seller_id                                      \n",
       "2                  214   181.0 NaN   23.0  10.0\n",
       "8                  305   258.0 NaN   30.0  17.0\n",
       "9                  242   219.0 NaN   14.0   9.0\n",
       "10                1658  1529.0 NaN   72.0  57.0\n",
       "13                 681   567.0 NaN  100.0  14.0"
      ],
      "text/html": "<div>\n<style scoped>\n    .dataframe tbody tr th:only-of-type {\n        vertical-align: middle;\n    }\n\n    .dataframe tbody tr th {\n        vertical-align: top;\n    }\n\n    .dataframe thead th {\n        text-align: right;\n    }\n</style>\n<table border=\"1\" class=\"dataframe\">\n  <thead>\n    <tr style=\"text-align: right;\">\n      <th></th>\n      <th>total_count</th>\n      <th>0</th>\n      <th>1</th>\n      <th>2</th>\n      <th>3</th>\n    </tr>\n    <tr>\n      <th>seller_id</th>\n      <th></th>\n      <th></th>\n      <th></th>\n      <th></th>\n      <th></th>\n    </tr>\n  </thead>\n  <tbody>\n    <tr>\n      <th>2</th>\n      <td>214</td>\n      <td>181.0</td>\n      <td>NaN</td>\n      <td>23.0</td>\n      <td>10.0</td>\n    </tr>\n    <tr>\n      <th>8</th>\n      <td>305</td>\n      <td>258.0</td>\n      <td>NaN</td>\n      <td>30.0</td>\n      <td>17.0</td>\n    </tr>\n    <tr>\n      <th>9</th>\n      <td>242</td>\n      <td>219.0</td>\n      <td>NaN</td>\n      <td>14.0</td>\n      <td>9.0</td>\n    </tr>\n    <tr>\n      <th>10</th>\n      <td>1658</td>\n      <td>1529.0</td>\n      <td>NaN</td>\n      <td>72.0</td>\n      <td>57.0</td>\n    </tr>\n    <tr>\n      <th>13</th>\n      <td>681</td>\n      <td>567.0</td>\n      <td>NaN</td>\n      <td>100.0</td>\n      <td>14.0</td>\n    </tr>\n  </tbody>\n</table>\n</div>"
     },
     "metadata": {},
     "execution_count": 39
    }
   ],
   "source": [
    "shop_feaut= shop_feaut.merge(shop_feaut_2,on=\"seller_id\")\n",
    "shop_feaut.head()"
   ]
  },
  {
   "cell_type": "code",
   "execution_count": 40,
   "metadata": {},
   "outputs": [
    {
     "output_type": "execute_result",
     "data": {
      "text/plain": [
       "           total_count   click  add_car    buy  collect\n",
       "seller_id                                              \n",
       "2                  214   181.0      NaN   23.0     10.0\n",
       "8                  305   258.0      NaN   30.0     17.0\n",
       "9                  242   219.0      NaN   14.0      9.0\n",
       "10                1658  1529.0      NaN   72.0     57.0\n",
       "13                 681   567.0      NaN  100.0     14.0"
      ],
      "text/html": "<div>\n<style scoped>\n    .dataframe tbody tr th:only-of-type {\n        vertical-align: middle;\n    }\n\n    .dataframe tbody tr th {\n        vertical-align: top;\n    }\n\n    .dataframe thead th {\n        text-align: right;\n    }\n</style>\n<table border=\"1\" class=\"dataframe\">\n  <thead>\n    <tr style=\"text-align: right;\">\n      <th></th>\n      <th>total_count</th>\n      <th>click</th>\n      <th>add_car</th>\n      <th>buy</th>\n      <th>collect</th>\n    </tr>\n    <tr>\n      <th>seller_id</th>\n      <th></th>\n      <th></th>\n      <th></th>\n      <th></th>\n      <th></th>\n    </tr>\n  </thead>\n  <tbody>\n    <tr>\n      <th>2</th>\n      <td>214</td>\n      <td>181.0</td>\n      <td>NaN</td>\n      <td>23.0</td>\n      <td>10.0</td>\n    </tr>\n    <tr>\n      <th>8</th>\n      <td>305</td>\n      <td>258.0</td>\n      <td>NaN</td>\n      <td>30.0</td>\n      <td>17.0</td>\n    </tr>\n    <tr>\n      <th>9</th>\n      <td>242</td>\n      <td>219.0</td>\n      <td>NaN</td>\n      <td>14.0</td>\n      <td>9.0</td>\n    </tr>\n    <tr>\n      <th>10</th>\n      <td>1658</td>\n      <td>1529.0</td>\n      <td>NaN</td>\n      <td>72.0</td>\n      <td>57.0</td>\n    </tr>\n    <tr>\n      <th>13</th>\n      <td>681</td>\n      <td>567.0</td>\n      <td>NaN</td>\n      <td>100.0</td>\n      <td>14.0</td>\n    </tr>\n  </tbody>\n</table>\n</div>"
     },
     "metadata": {},
     "execution_count": 40
    }
   ],
   "source": [
    "shop_feaut.columns = [\"total_count\",\"click\",\"add_car\",\"buy\",\"collect\"]\n",
    "shop_feaut.head()"
   ]
  },
  {
   "cell_type": "code",
   "execution_count": 41,
   "metadata": {},
   "outputs": [
    {
     "output_type": "execute_result",
     "data": {
      "text/plain": [
       "           user_id  item_id  cat_id  brand_id\n",
       "seller_id                                    \n",
       "2               82       48       7         1\n",
       "8               83       51       8         1\n",
       "9               72      103      13        15\n",
       "10             410      185      13         2\n",
       "13             187       28       5         1"
      ],
      "text/html": "<div>\n<style scoped>\n    .dataframe tbody tr th:only-of-type {\n        vertical-align: middle;\n    }\n\n    .dataframe tbody tr th {\n        vertical-align: top;\n    }\n\n    .dataframe thead th {\n        text-align: right;\n    }\n</style>\n<table border=\"1\" class=\"dataframe\">\n  <thead>\n    <tr style=\"text-align: right;\">\n      <th></th>\n      <th>user_id</th>\n      <th>item_id</th>\n      <th>cat_id</th>\n      <th>brand_id</th>\n    </tr>\n    <tr>\n      <th>seller_id</th>\n      <th></th>\n      <th></th>\n      <th></th>\n      <th></th>\n    </tr>\n  </thead>\n  <tbody>\n    <tr>\n      <th>2</th>\n      <td>82</td>\n      <td>48</td>\n      <td>7</td>\n      <td>1</td>\n    </tr>\n    <tr>\n      <th>8</th>\n      <td>83</td>\n      <td>51</td>\n      <td>8</td>\n      <td>1</td>\n    </tr>\n    <tr>\n      <th>9</th>\n      <td>72</td>\n      <td>103</td>\n      <td>13</td>\n      <td>15</td>\n    </tr>\n    <tr>\n      <th>10</th>\n      <td>410</td>\n      <td>185</td>\n      <td>13</td>\n      <td>2</td>\n    </tr>\n    <tr>\n      <th>13</th>\n      <td>187</td>\n      <td>28</td>\n      <td>5</td>\n      <td>1</td>\n    </tr>\n  </tbody>\n</table>\n</div>"
     },
     "metadata": {},
     "execution_count": 41
    }
   ],
   "source": [
    "#商铺下交互的总用户数，多少被交互的商品，商品类别和商品品牌数量\n",
    "shop_feaut_2 = user_log.groupby(\"seller_id\")[\"user_id\",\"item_id\",\"cat_id\",\"brand_id\"].nunique()\n",
    "shop_feaut_2.head()"
   ]
  },
  {
   "cell_type": "code",
   "execution_count": 42,
   "metadata": {},
   "outputs": [
    {
     "output_type": "execute_result",
     "data": {
      "text/plain": [
       "           total_count   click  add_car    buy  collect  user_count  \\\n",
       "seller_id                                                             \n",
       "2                  214   181.0      NaN   23.0     10.0          82   \n",
       "8                  305   258.0      NaN   30.0     17.0          83   \n",
       "9                  242   219.0      NaN   14.0      9.0          72   \n",
       "10                1658  1529.0      NaN   72.0     57.0         410   \n",
       "13                 681   567.0      NaN  100.0     14.0         187   \n",
       "\n",
       "           item_count  cat_count  brand_count  \n",
       "seller_id                                      \n",
       "2                  48          7            1  \n",
       "8                  51          8            1  \n",
       "9                 103         13           15  \n",
       "10                185         13            2  \n",
       "13                 28          5            1  "
      ],
      "text/html": "<div>\n<style scoped>\n    .dataframe tbody tr th:only-of-type {\n        vertical-align: middle;\n    }\n\n    .dataframe tbody tr th {\n        vertical-align: top;\n    }\n\n    .dataframe thead th {\n        text-align: right;\n    }\n</style>\n<table border=\"1\" class=\"dataframe\">\n  <thead>\n    <tr style=\"text-align: right;\">\n      <th></th>\n      <th>total_count</th>\n      <th>click</th>\n      <th>add_car</th>\n      <th>buy</th>\n      <th>collect</th>\n      <th>user_count</th>\n      <th>item_count</th>\n      <th>cat_count</th>\n      <th>brand_count</th>\n    </tr>\n    <tr>\n      <th>seller_id</th>\n      <th></th>\n      <th></th>\n      <th></th>\n      <th></th>\n      <th></th>\n      <th></th>\n      <th></th>\n      <th></th>\n      <th></th>\n    </tr>\n  </thead>\n  <tbody>\n    <tr>\n      <th>2</th>\n      <td>214</td>\n      <td>181.0</td>\n      <td>NaN</td>\n      <td>23.0</td>\n      <td>10.0</td>\n      <td>82</td>\n      <td>48</td>\n      <td>7</td>\n      <td>1</td>\n    </tr>\n    <tr>\n      <th>8</th>\n      <td>305</td>\n      <td>258.0</td>\n      <td>NaN</td>\n      <td>30.0</td>\n      <td>17.0</td>\n      <td>83</td>\n      <td>51</td>\n      <td>8</td>\n      <td>1</td>\n    </tr>\n    <tr>\n      <th>9</th>\n      <td>242</td>\n      <td>219.0</td>\n      <td>NaN</td>\n      <td>14.0</td>\n      <td>9.0</td>\n      <td>72</td>\n      <td>103</td>\n      <td>13</td>\n      <td>15</td>\n    </tr>\n    <tr>\n      <th>10</th>\n      <td>1658</td>\n      <td>1529.0</td>\n      <td>NaN</td>\n      <td>72.0</td>\n      <td>57.0</td>\n      <td>410</td>\n      <td>185</td>\n      <td>13</td>\n      <td>2</td>\n    </tr>\n    <tr>\n      <th>13</th>\n      <td>681</td>\n      <td>567.0</td>\n      <td>NaN</td>\n      <td>100.0</td>\n      <td>14.0</td>\n      <td>187</td>\n      <td>28</td>\n      <td>5</td>\n      <td>1</td>\n    </tr>\n  </tbody>\n</table>\n</div>"
     },
     "metadata": {},
     "execution_count": 42
    }
   ],
   "source": [
    "shop_feaut_2.columns=[\"user_count\",\"item_count\",\"cat_count\",\"brand_count\"]\n",
    "shop_feaut= shop_feaut.merge(shop_feaut_2,on=\"seller_id\")\n",
    "shop_feaut.head()"
   ]
  },
  {
   "cell_type": "code",
   "execution_count": 43,
   "metadata": {},
   "outputs": [
    {
     "output_type": "execute_result",
     "data": {
      "text/plain": [
       "           total_count   click  add_car    buy  collect  user_count  \\\n",
       "seller_id                                                             \n",
       "2                  214   181.0      NaN   23.0     10.0          82   \n",
       "8                  305   258.0      NaN   30.0     17.0          83   \n",
       "9                  242   219.0      NaN   14.0      9.0          72   \n",
       "10                1658  1529.0      NaN   72.0     57.0         410   \n",
       "13                 681   567.0      NaN  100.0     14.0         187   \n",
       "\n",
       "           item_count  cat_count  brand_count  month  \n",
       "seller_id                                             \n",
       "2                  48          7            1      7  \n",
       "8                  51          8            1      7  \n",
       "9                 103         13           15      7  \n",
       "10                185         13            2      7  \n",
       "13                 28          5            1      7  "
      ],
      "text/html": "<div>\n<style scoped>\n    .dataframe tbody tr th:only-of-type {\n        vertical-align: middle;\n    }\n\n    .dataframe tbody tr th {\n        vertical-align: top;\n    }\n\n    .dataframe thead th {\n        text-align: right;\n    }\n</style>\n<table border=\"1\" class=\"dataframe\">\n  <thead>\n    <tr style=\"text-align: right;\">\n      <th></th>\n      <th>total_count</th>\n      <th>click</th>\n      <th>add_car</th>\n      <th>buy</th>\n      <th>collect</th>\n      <th>user_count</th>\n      <th>item_count</th>\n      <th>cat_count</th>\n      <th>brand_count</th>\n      <th>month</th>\n    </tr>\n    <tr>\n      <th>seller_id</th>\n      <th></th>\n      <th></th>\n      <th></th>\n      <th></th>\n      <th></th>\n      <th></th>\n      <th></th>\n      <th></th>\n      <th></th>\n      <th></th>\n    </tr>\n  </thead>\n  <tbody>\n    <tr>\n      <th>2</th>\n      <td>214</td>\n      <td>181.0</td>\n      <td>NaN</td>\n      <td>23.0</td>\n      <td>10.0</td>\n      <td>82</td>\n      <td>48</td>\n      <td>7</td>\n      <td>1</td>\n      <td>7</td>\n    </tr>\n    <tr>\n      <th>8</th>\n      <td>305</td>\n      <td>258.0</td>\n      <td>NaN</td>\n      <td>30.0</td>\n      <td>17.0</td>\n      <td>83</td>\n      <td>51</td>\n      <td>8</td>\n      <td>1</td>\n      <td>7</td>\n    </tr>\n    <tr>\n      <th>9</th>\n      <td>242</td>\n      <td>219.0</td>\n      <td>NaN</td>\n      <td>14.0</td>\n      <td>9.0</td>\n      <td>72</td>\n      <td>103</td>\n      <td>13</td>\n      <td>15</td>\n      <td>7</td>\n    </tr>\n    <tr>\n      <th>10</th>\n      <td>1658</td>\n      <td>1529.0</td>\n      <td>NaN</td>\n      <td>72.0</td>\n      <td>57.0</td>\n      <td>410</td>\n      <td>185</td>\n      <td>13</td>\n      <td>2</td>\n      <td>7</td>\n    </tr>\n    <tr>\n      <th>13</th>\n      <td>681</td>\n      <td>567.0</td>\n      <td>NaN</td>\n      <td>100.0</td>\n      <td>14.0</td>\n      <td>187</td>\n      <td>28</td>\n      <td>5</td>\n      <td>1</td>\n      <td>7</td>\n    </tr>\n  </tbody>\n</table>\n</div>"
     },
     "metadata": {},
     "execution_count": 43
    }
   ],
   "source": [
    "#商铺月平均有多少用户交互\n",
    "shop_feaut_2= user_log.groupby(\"seller_id\")[\"month\"].nunique()\n",
    "shop_feaut= shop_feaut.merge(shop_feaut_2,on=\"seller_id\")\n",
    "shop_feaut.head()"
   ]
  },
  {
   "cell_type": "code",
   "execution_count": 44,
   "metadata": {},
   "outputs": [
    {
     "output_type": "execute_result",
     "data": {
      "text/plain": [
       "           total_count   click  add_car    buy  collect  user_count  \\\n",
       "seller_id                                                             \n",
       "2                  214   181.0      NaN   23.0     10.0          82   \n",
       "8                  305   258.0      NaN   30.0     17.0          83   \n",
       "9                  242   219.0      NaN   14.0      9.0          72   \n",
       "10                1658  1529.0      NaN   72.0     57.0         410   \n",
       "13                 681   567.0      NaN  100.0     14.0         187   \n",
       "\n",
       "           item_count  cat_count  brand_count  month  month_avg_user  \n",
       "seller_id                                                             \n",
       "2                  48          7            1      7       11.714286  \n",
       "8                  51          8            1      7       11.857143  \n",
       "9                 103         13           15      7       10.285714  \n",
       "10                185         13            2      7       58.571429  \n",
       "13                 28          5            1      7       26.714286  "
      ],
      "text/html": "<div>\n<style scoped>\n    .dataframe tbody tr th:only-of-type {\n        vertical-align: middle;\n    }\n\n    .dataframe tbody tr th {\n        vertical-align: top;\n    }\n\n    .dataframe thead th {\n        text-align: right;\n    }\n</style>\n<table border=\"1\" class=\"dataframe\">\n  <thead>\n    <tr style=\"text-align: right;\">\n      <th></th>\n      <th>total_count</th>\n      <th>click</th>\n      <th>add_car</th>\n      <th>buy</th>\n      <th>collect</th>\n      <th>user_count</th>\n      <th>item_count</th>\n      <th>cat_count</th>\n      <th>brand_count</th>\n      <th>month</th>\n      <th>month_avg_user</th>\n    </tr>\n    <tr>\n      <th>seller_id</th>\n      <th></th>\n      <th></th>\n      <th></th>\n      <th></th>\n      <th></th>\n      <th></th>\n      <th></th>\n      <th></th>\n      <th></th>\n      <th></th>\n      <th></th>\n    </tr>\n  </thead>\n  <tbody>\n    <tr>\n      <th>2</th>\n      <td>214</td>\n      <td>181.0</td>\n      <td>NaN</td>\n      <td>23.0</td>\n      <td>10.0</td>\n      <td>82</td>\n      <td>48</td>\n      <td>7</td>\n      <td>1</td>\n      <td>7</td>\n      <td>11.714286</td>\n    </tr>\n    <tr>\n      <th>8</th>\n      <td>305</td>\n      <td>258.0</td>\n      <td>NaN</td>\n      <td>30.0</td>\n      <td>17.0</td>\n      <td>83</td>\n      <td>51</td>\n      <td>8</td>\n      <td>1</td>\n      <td>7</td>\n      <td>11.857143</td>\n    </tr>\n    <tr>\n      <th>9</th>\n      <td>242</td>\n      <td>219.0</td>\n      <td>NaN</td>\n      <td>14.0</td>\n      <td>9.0</td>\n      <td>72</td>\n      <td>103</td>\n      <td>13</td>\n      <td>15</td>\n      <td>7</td>\n      <td>10.285714</td>\n    </tr>\n    <tr>\n      <th>10</th>\n      <td>1658</td>\n      <td>1529.0</td>\n      <td>NaN</td>\n      <td>72.0</td>\n      <td>57.0</td>\n      <td>410</td>\n      <td>185</td>\n      <td>13</td>\n      <td>2</td>\n      <td>7</td>\n      <td>58.571429</td>\n    </tr>\n    <tr>\n      <th>13</th>\n      <td>681</td>\n      <td>567.0</td>\n      <td>NaN</td>\n      <td>100.0</td>\n      <td>14.0</td>\n      <td>187</td>\n      <td>28</td>\n      <td>5</td>\n      <td>1</td>\n      <td>7</td>\n      <td>26.714286</td>\n    </tr>\n  </tbody>\n</table>\n</div>"
     },
     "metadata": {},
     "execution_count": 44
    }
   ],
   "source": [
    "shop_feaut[\"month_avg_user\"]=shop_feaut.user_count/shop_feaut.month\n",
    "shop_feaut.head()"
   ]
  },
  {
   "cell_type": "code",
   "execution_count": 45,
   "metadata": {},
   "outputs": [
    {
     "output_type": "execute_result",
     "data": {
      "text/plain": [
       "   user_id  item_id  cat_id  seller_id  brand_id  time_stamp  action_type  \\\n",
       "0    26516   416965    1401        586    5579.0        1107            0   \n",
       "1    26516   416965    1401        586    5579.0        1107            0   \n",
       "2    26516   416965    1401        586    5579.0        1107            0   \n",
       "3    26516   352345     177       2565    8149.0        1101            0   \n",
       "4    26516   142231     177       2565    8149.0        1101            0   \n",
       "\n",
       "   month  day  age_range  gender  \n",
       "0     11    7        4.0     1.0  \n",
       "1     11    7        4.0     1.0  \n",
       "2     11    7        4.0     1.0  \n",
       "3     11    1        4.0     1.0  \n",
       "4     11    1        4.0     1.0  "
      ],
      "text/html": "<div>\n<style scoped>\n    .dataframe tbody tr th:only-of-type {\n        vertical-align: middle;\n    }\n\n    .dataframe tbody tr th {\n        vertical-align: top;\n    }\n\n    .dataframe thead th {\n        text-align: right;\n    }\n</style>\n<table border=\"1\" class=\"dataframe\">\n  <thead>\n    <tr style=\"text-align: right;\">\n      <th></th>\n      <th>user_id</th>\n      <th>item_id</th>\n      <th>cat_id</th>\n      <th>seller_id</th>\n      <th>brand_id</th>\n      <th>time_stamp</th>\n      <th>action_type</th>\n      <th>month</th>\n      <th>day</th>\n      <th>age_range</th>\n      <th>gender</th>\n    </tr>\n  </thead>\n  <tbody>\n    <tr>\n      <th>0</th>\n      <td>26516</td>\n      <td>416965</td>\n      <td>1401</td>\n      <td>586</td>\n      <td>5579.0</td>\n      <td>1107</td>\n      <td>0</td>\n      <td>11</td>\n      <td>7</td>\n      <td>4.0</td>\n      <td>1.0</td>\n    </tr>\n    <tr>\n      <th>1</th>\n      <td>26516</td>\n      <td>416965</td>\n      <td>1401</td>\n      <td>586</td>\n      <td>5579.0</td>\n      <td>1107</td>\n      <td>0</td>\n      <td>11</td>\n      <td>7</td>\n      <td>4.0</td>\n      <td>1.0</td>\n    </tr>\n    <tr>\n      <th>2</th>\n      <td>26516</td>\n      <td>416965</td>\n      <td>1401</td>\n      <td>586</td>\n      <td>5579.0</td>\n      <td>1107</td>\n      <td>0</td>\n      <td>11</td>\n      <td>7</td>\n      <td>4.0</td>\n      <td>1.0</td>\n    </tr>\n    <tr>\n      <th>3</th>\n      <td>26516</td>\n      <td>352345</td>\n      <td>177</td>\n      <td>2565</td>\n      <td>8149.0</td>\n      <td>1101</td>\n      <td>0</td>\n      <td>11</td>\n      <td>1</td>\n      <td>4.0</td>\n      <td>1.0</td>\n    </tr>\n    <tr>\n      <th>4</th>\n      <td>26516</td>\n      <td>142231</td>\n      <td>177</td>\n      <td>2565</td>\n      <td>8149.0</td>\n      <td>1101</td>\n      <td>0</td>\n      <td>11</td>\n      <td>1</td>\n      <td>4.0</td>\n      <td>1.0</td>\n    </tr>\n  </tbody>\n</table>\n</div>"
     },
     "metadata": {},
     "execution_count": 45
    }
   ],
   "source": [
    "#获取用户详细信息\n",
    "user_log = user_log.merge(user_info,on=\"user_id\")\n",
    "user_log.head()"
   ]
  },
  {
   "cell_type": "code",
   "execution_count": 46,
   "metadata": {},
   "outputs": [
    {
     "output_type": "execute_result",
     "data": {
      "text/plain": [
       "age_range  1.0   2.0    3.0   4.0   5.0   6.0   7.0\n",
       "seller_id                                          \n",
       "2          NaN  10.0   19.0  14.0   9.0   8.0   2.0\n",
       "8          NaN   6.0   23.0  17.0   8.0   7.0   2.0\n",
       "9          NaN   8.0   21.0  19.0   6.0  11.0   2.0\n",
       "10         NaN  17.0  108.0  80.0  55.0  40.0  10.0\n",
       "13         NaN  25.0   51.0  19.0  19.0  21.0   7.0"
      ],
      "text/html": "<div>\n<style scoped>\n    .dataframe tbody tr th:only-of-type {\n        vertical-align: middle;\n    }\n\n    .dataframe tbody tr th {\n        vertical-align: top;\n    }\n\n    .dataframe thead th {\n        text-align: right;\n    }\n</style>\n<table border=\"1\" class=\"dataframe\">\n  <thead>\n    <tr style=\"text-align: right;\">\n      <th>age_range</th>\n      <th>1.0</th>\n      <th>2.0</th>\n      <th>3.0</th>\n      <th>4.0</th>\n      <th>5.0</th>\n      <th>6.0</th>\n      <th>7.0</th>\n    </tr>\n    <tr>\n      <th>seller_id</th>\n      <th></th>\n      <th></th>\n      <th></th>\n      <th></th>\n      <th></th>\n      <th></th>\n      <th></th>\n    </tr>\n  </thead>\n  <tbody>\n    <tr>\n      <th>2</th>\n      <td>NaN</td>\n      <td>10.0</td>\n      <td>19.0</td>\n      <td>14.0</td>\n      <td>9.0</td>\n      <td>8.0</td>\n      <td>2.0</td>\n    </tr>\n    <tr>\n      <th>8</th>\n      <td>NaN</td>\n      <td>6.0</td>\n      <td>23.0</td>\n      <td>17.0</td>\n      <td>8.0</td>\n      <td>7.0</td>\n      <td>2.0</td>\n    </tr>\n    <tr>\n      <th>9</th>\n      <td>NaN</td>\n      <td>8.0</td>\n      <td>21.0</td>\n      <td>19.0</td>\n      <td>6.0</td>\n      <td>11.0</td>\n      <td>2.0</td>\n    </tr>\n    <tr>\n      <th>10</th>\n      <td>NaN</td>\n      <td>17.0</td>\n      <td>108.0</td>\n      <td>80.0</td>\n      <td>55.0</td>\n      <td>40.0</td>\n      <td>10.0</td>\n    </tr>\n    <tr>\n      <th>13</th>\n      <td>NaN</td>\n      <td>25.0</td>\n      <td>51.0</td>\n      <td>19.0</td>\n      <td>19.0</td>\n      <td>21.0</td>\n      <td>7.0</td>\n    </tr>\n  </tbody>\n</table>\n</div>"
     },
     "metadata": {},
     "execution_count": 46
    }
   ],
   "source": [
    "#商铺下交互的用户按年龄段和性别分别统计\n",
    "shop_feaut_2 = pd.pivot_table(user_log,index=\"seller_id\",columns=\"age_range\",values=\"user_id\",aggfunc=\"nunique\")\n",
    "shop_feaut_2.head()"
   ]
  },
  {
   "cell_type": "code",
   "execution_count": 47,
   "metadata": {},
   "outputs": [
    {
     "output_type": "execute_result",
     "data": {
      "text/plain": [
       "           less18  between18and24  between25and29  between30and34  \\\n",
       "seller_id                                                           \n",
       "2             NaN            10.0            19.0            14.0   \n",
       "8             NaN             6.0            23.0            17.0   \n",
       "9             NaN             8.0            21.0            19.0   \n",
       "10            NaN            17.0           108.0            80.0   \n",
       "13            NaN            25.0            51.0            19.0   \n",
       "\n",
       "           between35and39  between40and49  grate50  \n",
       "seller_id                                           \n",
       "2                     9.0             8.0      2.0  \n",
       "8                     8.0             7.0      2.0  \n",
       "9                     6.0            11.0      2.0  \n",
       "10                   55.0            40.0     10.0  \n",
       "13                   19.0            21.0      7.0  "
      ],
      "text/html": "<div>\n<style scoped>\n    .dataframe tbody tr th:only-of-type {\n        vertical-align: middle;\n    }\n\n    .dataframe tbody tr th {\n        vertical-align: top;\n    }\n\n    .dataframe thead th {\n        text-align: right;\n    }\n</style>\n<table border=\"1\" class=\"dataframe\">\n  <thead>\n    <tr style=\"text-align: right;\">\n      <th></th>\n      <th>less18</th>\n      <th>between18and24</th>\n      <th>between25and29</th>\n      <th>between30and34</th>\n      <th>between35and39</th>\n      <th>between40and49</th>\n      <th>grate50</th>\n    </tr>\n    <tr>\n      <th>seller_id</th>\n      <th></th>\n      <th></th>\n      <th></th>\n      <th></th>\n      <th></th>\n      <th></th>\n      <th></th>\n    </tr>\n  </thead>\n  <tbody>\n    <tr>\n      <th>2</th>\n      <td>NaN</td>\n      <td>10.0</td>\n      <td>19.0</td>\n      <td>14.0</td>\n      <td>9.0</td>\n      <td>8.0</td>\n      <td>2.0</td>\n    </tr>\n    <tr>\n      <th>8</th>\n      <td>NaN</td>\n      <td>6.0</td>\n      <td>23.0</td>\n      <td>17.0</td>\n      <td>8.0</td>\n      <td>7.0</td>\n      <td>2.0</td>\n    </tr>\n    <tr>\n      <th>9</th>\n      <td>NaN</td>\n      <td>8.0</td>\n      <td>21.0</td>\n      <td>19.0</td>\n      <td>6.0</td>\n      <td>11.0</td>\n      <td>2.0</td>\n    </tr>\n    <tr>\n      <th>10</th>\n      <td>NaN</td>\n      <td>17.0</td>\n      <td>108.0</td>\n      <td>80.0</td>\n      <td>55.0</td>\n      <td>40.0</td>\n      <td>10.0</td>\n    </tr>\n    <tr>\n      <th>13</th>\n      <td>NaN</td>\n      <td>25.0</td>\n      <td>51.0</td>\n      <td>19.0</td>\n      <td>19.0</td>\n      <td>21.0</td>\n      <td>7.0</td>\n    </tr>\n  </tbody>\n</table>\n</div>"
     },
     "metadata": {},
     "execution_count": 47
    }
   ],
   "source": [
    "shop_feaut_2.columns=[\"less18\",\"between18and24\",\"between25and29\",\"between30and34\",\"between35and39\",\"between40and49\",\"grate50\"]\n",
    "shop_feaut_2.head()"
   ]
  },
  {
   "cell_type": "code",
   "execution_count": 48,
   "metadata": {},
   "outputs": [
    {
     "output_type": "execute_result",
     "data": {
      "text/plain": [
       "           total_count   click  add_car    buy  collect  user_count  \\\n",
       "seller_id                                                             \n",
       "2                  214   181.0      NaN   23.0     10.0          82   \n",
       "8                  305   258.0      NaN   30.0     17.0          83   \n",
       "9                  242   219.0      NaN   14.0      9.0          72   \n",
       "10                1658  1529.0      NaN   72.0     57.0         410   \n",
       "13                 681   567.0      NaN  100.0     14.0         187   \n",
       "\n",
       "           item_count  cat_count  brand_count  month  month_avg_user  less18  \\\n",
       "seller_id                                                                      \n",
       "2                  48          7            1      7       11.714286     NaN   \n",
       "8                  51          8            1      7       11.857143     NaN   \n",
       "9                 103         13           15      7       10.285714     NaN   \n",
       "10                185         13            2      7       58.571429     NaN   \n",
       "13                 28          5            1      7       26.714286     NaN   \n",
       "\n",
       "           between18and24  between25and29  between30and34  between35and39  \\\n",
       "seller_id                                                                   \n",
       "2                    10.0            19.0            14.0             9.0   \n",
       "8                     6.0            23.0            17.0             8.0   \n",
       "9                     8.0            21.0            19.0             6.0   \n",
       "10                   17.0           108.0            80.0            55.0   \n",
       "13                   25.0            51.0            19.0            19.0   \n",
       "\n",
       "           between40and49  grate50  \n",
       "seller_id                           \n",
       "2                     8.0      2.0  \n",
       "8                     7.0      2.0  \n",
       "9                    11.0      2.0  \n",
       "10                   40.0     10.0  \n",
       "13                   21.0      7.0  "
      ],
      "text/html": "<div>\n<style scoped>\n    .dataframe tbody tr th:only-of-type {\n        vertical-align: middle;\n    }\n\n    .dataframe tbody tr th {\n        vertical-align: top;\n    }\n\n    .dataframe thead th {\n        text-align: right;\n    }\n</style>\n<table border=\"1\" class=\"dataframe\">\n  <thead>\n    <tr style=\"text-align: right;\">\n      <th></th>\n      <th>total_count</th>\n      <th>click</th>\n      <th>add_car</th>\n      <th>buy</th>\n      <th>collect</th>\n      <th>user_count</th>\n      <th>item_count</th>\n      <th>cat_count</th>\n      <th>brand_count</th>\n      <th>month</th>\n      <th>month_avg_user</th>\n      <th>less18</th>\n      <th>between18and24</th>\n      <th>between25and29</th>\n      <th>between30and34</th>\n      <th>between35and39</th>\n      <th>between40and49</th>\n      <th>grate50</th>\n    </tr>\n    <tr>\n      <th>seller_id</th>\n      <th></th>\n      <th></th>\n      <th></th>\n      <th></th>\n      <th></th>\n      <th></th>\n      <th></th>\n      <th></th>\n      <th></th>\n      <th></th>\n      <th></th>\n      <th></th>\n      <th></th>\n      <th></th>\n      <th></th>\n      <th></th>\n      <th></th>\n      <th></th>\n    </tr>\n  </thead>\n  <tbody>\n    <tr>\n      <th>2</th>\n      <td>214</td>\n      <td>181.0</td>\n      <td>NaN</td>\n      <td>23.0</td>\n      <td>10.0</td>\n      <td>82</td>\n      <td>48</td>\n      <td>7</td>\n      <td>1</td>\n      <td>7</td>\n      <td>11.714286</td>\n      <td>NaN</td>\n      <td>10.0</td>\n      <td>19.0</td>\n      <td>14.0</td>\n      <td>9.0</td>\n      <td>8.0</td>\n      <td>2.0</td>\n    </tr>\n    <tr>\n      <th>8</th>\n      <td>305</td>\n      <td>258.0</td>\n      <td>NaN</td>\n      <td>30.0</td>\n      <td>17.0</td>\n      <td>83</td>\n      <td>51</td>\n      <td>8</td>\n      <td>1</td>\n      <td>7</td>\n      <td>11.857143</td>\n      <td>NaN</td>\n      <td>6.0</td>\n      <td>23.0</td>\n      <td>17.0</td>\n      <td>8.0</td>\n      <td>7.0</td>\n      <td>2.0</td>\n    </tr>\n    <tr>\n      <th>9</th>\n      <td>242</td>\n      <td>219.0</td>\n      <td>NaN</td>\n      <td>14.0</td>\n      <td>9.0</td>\n      <td>72</td>\n      <td>103</td>\n      <td>13</td>\n      <td>15</td>\n      <td>7</td>\n      <td>10.285714</td>\n      <td>NaN</td>\n      <td>8.0</td>\n      <td>21.0</td>\n      <td>19.0</td>\n      <td>6.0</td>\n      <td>11.0</td>\n      <td>2.0</td>\n    </tr>\n    <tr>\n      <th>10</th>\n      <td>1658</td>\n      <td>1529.0</td>\n      <td>NaN</td>\n      <td>72.0</td>\n      <td>57.0</td>\n      <td>410</td>\n      <td>185</td>\n      <td>13</td>\n      <td>2</td>\n      <td>7</td>\n      <td>58.571429</td>\n      <td>NaN</td>\n      <td>17.0</td>\n      <td>108.0</td>\n      <td>80.0</td>\n      <td>55.0</td>\n      <td>40.0</td>\n      <td>10.0</td>\n    </tr>\n    <tr>\n      <th>13</th>\n      <td>681</td>\n      <td>567.0</td>\n      <td>NaN</td>\n      <td>100.0</td>\n      <td>14.0</td>\n      <td>187</td>\n      <td>28</td>\n      <td>5</td>\n      <td>1</td>\n      <td>7</td>\n      <td>26.714286</td>\n      <td>NaN</td>\n      <td>25.0</td>\n      <td>51.0</td>\n      <td>19.0</td>\n      <td>19.0</td>\n      <td>21.0</td>\n      <td>7.0</td>\n    </tr>\n  </tbody>\n</table>\n</div>"
     },
     "metadata": {},
     "execution_count": 48
    }
   ],
   "source": [
    "shop_feaut= shop_feaut.merge(shop_feaut_2,on=\"seller_id\")\n",
    "shop_feaut.head()"
   ]
  },
  {
   "cell_type": "code",
   "execution_count": 49,
   "metadata": {},
   "outputs": [
    {
     "output_type": "execute_result",
     "data": {
      "text/plain": [
       "gender       0.0    1.0\n",
       "seller_id              \n",
       "2           44.0   18.0\n",
       "8           60.0    3.0\n",
       "9           18.0   49.0\n",
       "10         187.0  123.0\n",
       "13          77.0   65.0"
      ],
      "text/html": "<div>\n<style scoped>\n    .dataframe tbody tr th:only-of-type {\n        vertical-align: middle;\n    }\n\n    .dataframe tbody tr th {\n        vertical-align: top;\n    }\n\n    .dataframe thead th {\n        text-align: right;\n    }\n</style>\n<table border=\"1\" class=\"dataframe\">\n  <thead>\n    <tr style=\"text-align: right;\">\n      <th>gender</th>\n      <th>0.0</th>\n      <th>1.0</th>\n    </tr>\n    <tr>\n      <th>seller_id</th>\n      <th></th>\n      <th></th>\n    </tr>\n  </thead>\n  <tbody>\n    <tr>\n      <th>2</th>\n      <td>44.0</td>\n      <td>18.0</td>\n    </tr>\n    <tr>\n      <th>8</th>\n      <td>60.0</td>\n      <td>3.0</td>\n    </tr>\n    <tr>\n      <th>9</th>\n      <td>18.0</td>\n      <td>49.0</td>\n    </tr>\n    <tr>\n      <th>10</th>\n      <td>187.0</td>\n      <td>123.0</td>\n    </tr>\n    <tr>\n      <th>13</th>\n      <td>77.0</td>\n      <td>65.0</td>\n    </tr>\n  </tbody>\n</table>\n</div>"
     },
     "metadata": {},
     "execution_count": 49
    }
   ],
   "source": [
    "shop_feaut_2 = pd.pivot_table(user_log,index=\"seller_id\",columns=\"gender\",values=\"user_id\",aggfunc=\"nunique\")\n",
    "shop_feaut_2.head()"
   ]
  },
  {
   "cell_type": "code",
   "execution_count": 50,
   "metadata": {},
   "outputs": [
    {
     "output_type": "execute_result",
     "data": {
      "text/plain": [
       "           total_count   click  add_car    buy  collect  user_count  \\\n",
       "seller_id                                                             \n",
       "2                  214   181.0      NaN   23.0     10.0          82   \n",
       "8                  305   258.0      NaN   30.0     17.0          83   \n",
       "9                  242   219.0      NaN   14.0      9.0          72   \n",
       "10                1658  1529.0      NaN   72.0     57.0         410   \n",
       "13                 681   567.0      NaN  100.0     14.0         187   \n",
       "\n",
       "           item_count  cat_count  brand_count  month  month_avg_user  less18  \\\n",
       "seller_id                                                                      \n",
       "2                  48          7            1      7       11.714286     NaN   \n",
       "8                  51          8            1      7       11.857143     NaN   \n",
       "9                 103         13           15      7       10.285714     NaN   \n",
       "10                185         13            2      7       58.571429     NaN   \n",
       "13                 28          5            1      7       26.714286     NaN   \n",
       "\n",
       "           between18and24  between25and29  between30and34  between35and39  \\\n",
       "seller_id                                                                   \n",
       "2                    10.0            19.0            14.0             9.0   \n",
       "8                     6.0            23.0            17.0             8.0   \n",
       "9                     8.0            21.0            19.0             6.0   \n",
       "10                   17.0           108.0            80.0            55.0   \n",
       "13                   25.0            51.0            19.0            19.0   \n",
       "\n",
       "           between40and49  grate50  gender_F  gender_M  \n",
       "seller_id                                               \n",
       "2                     8.0      2.0      44.0      18.0  \n",
       "8                     7.0      2.0      60.0       3.0  \n",
       "9                    11.0      2.0      18.0      49.0  \n",
       "10                   40.0     10.0     187.0     123.0  \n",
       "13                   21.0      7.0      77.0      65.0  "
      ],
      "text/html": "<div>\n<style scoped>\n    .dataframe tbody tr th:only-of-type {\n        vertical-align: middle;\n    }\n\n    .dataframe tbody tr th {\n        vertical-align: top;\n    }\n\n    .dataframe thead th {\n        text-align: right;\n    }\n</style>\n<table border=\"1\" class=\"dataframe\">\n  <thead>\n    <tr style=\"text-align: right;\">\n      <th></th>\n      <th>total_count</th>\n      <th>click</th>\n      <th>add_car</th>\n      <th>buy</th>\n      <th>collect</th>\n      <th>user_count</th>\n      <th>item_count</th>\n      <th>cat_count</th>\n      <th>brand_count</th>\n      <th>month</th>\n      <th>month_avg_user</th>\n      <th>less18</th>\n      <th>between18and24</th>\n      <th>between25and29</th>\n      <th>between30and34</th>\n      <th>between35and39</th>\n      <th>between40and49</th>\n      <th>grate50</th>\n      <th>gender_F</th>\n      <th>gender_M</th>\n    </tr>\n    <tr>\n      <th>seller_id</th>\n      <th></th>\n      <th></th>\n      <th></th>\n      <th></th>\n      <th></th>\n      <th></th>\n      <th></th>\n      <th></th>\n      <th></th>\n      <th></th>\n      <th></th>\n      <th></th>\n      <th></th>\n      <th></th>\n      <th></th>\n      <th></th>\n      <th></th>\n      <th></th>\n      <th></th>\n      <th></th>\n    </tr>\n  </thead>\n  <tbody>\n    <tr>\n      <th>2</th>\n      <td>214</td>\n      <td>181.0</td>\n      <td>NaN</td>\n      <td>23.0</td>\n      <td>10.0</td>\n      <td>82</td>\n      <td>48</td>\n      <td>7</td>\n      <td>1</td>\n      <td>7</td>\n      <td>11.714286</td>\n      <td>NaN</td>\n      <td>10.0</td>\n      <td>19.0</td>\n      <td>14.0</td>\n      <td>9.0</td>\n      <td>8.0</td>\n      <td>2.0</td>\n      <td>44.0</td>\n      <td>18.0</td>\n    </tr>\n    <tr>\n      <th>8</th>\n      <td>305</td>\n      <td>258.0</td>\n      <td>NaN</td>\n      <td>30.0</td>\n      <td>17.0</td>\n      <td>83</td>\n      <td>51</td>\n      <td>8</td>\n      <td>1</td>\n      <td>7</td>\n      <td>11.857143</td>\n      <td>NaN</td>\n      <td>6.0</td>\n      <td>23.0</td>\n      <td>17.0</td>\n      <td>8.0</td>\n      <td>7.0</td>\n      <td>2.0</td>\n      <td>60.0</td>\n      <td>3.0</td>\n    </tr>\n    <tr>\n      <th>9</th>\n      <td>242</td>\n      <td>219.0</td>\n      <td>NaN</td>\n      <td>14.0</td>\n      <td>9.0</td>\n      <td>72</td>\n      <td>103</td>\n      <td>13</td>\n      <td>15</td>\n      <td>7</td>\n      <td>10.285714</td>\n      <td>NaN</td>\n      <td>8.0</td>\n      <td>21.0</td>\n      <td>19.0</td>\n      <td>6.0</td>\n      <td>11.0</td>\n      <td>2.0</td>\n      <td>18.0</td>\n      <td>49.0</td>\n    </tr>\n    <tr>\n      <th>10</th>\n      <td>1658</td>\n      <td>1529.0</td>\n      <td>NaN</td>\n      <td>72.0</td>\n      <td>57.0</td>\n      <td>410</td>\n      <td>185</td>\n      <td>13</td>\n      <td>2</td>\n      <td>7</td>\n      <td>58.571429</td>\n      <td>NaN</td>\n      <td>17.0</td>\n      <td>108.0</td>\n      <td>80.0</td>\n      <td>55.0</td>\n      <td>40.0</td>\n      <td>10.0</td>\n      <td>187.0</td>\n      <td>123.0</td>\n    </tr>\n    <tr>\n      <th>13</th>\n      <td>681</td>\n      <td>567.0</td>\n      <td>NaN</td>\n      <td>100.0</td>\n      <td>14.0</td>\n      <td>187</td>\n      <td>28</td>\n      <td>5</td>\n      <td>1</td>\n      <td>7</td>\n      <td>26.714286</td>\n      <td>NaN</td>\n      <td>25.0</td>\n      <td>51.0</td>\n      <td>19.0</td>\n      <td>19.0</td>\n      <td>21.0</td>\n      <td>7.0</td>\n      <td>77.0</td>\n      <td>65.0</td>\n    </tr>\n  </tbody>\n</table>\n</div>"
     },
     "metadata": {},
     "execution_count": 50
    }
   ],
   "source": [
    "shop_feaut_2.columns=[\"gender_F\",\"gender_M\"]\n",
    "shop_feaut= shop_feaut.merge(shop_feaut_2,on=\"seller_id\")\n",
    "shop_feaut.head()"
   ]
  },
  {
   "cell_type": "code",
   "execution_count": 51,
   "metadata": {},
   "outputs": [],
   "source": [
    "#删除提取商铺特征的临时数据框\n",
    "del shop_feaut_2"
   ]
  },
  {
   "cell_type": "code",
   "execution_count": 52,
   "metadata": {},
   "outputs": [],
   "source": [
    "#合并提取的特征到电商--用户行为复购表\n",
    "user_feaut = user_feaut.reset_index()\n",
    "user_merchant = user_merchant.merge(user_feaut,on=\"user_id\",how=\"left\")\n",
    "shop_feaut = shop_feaut.reset_index()\n",
    "user_merchant = user_merchant.merge(shop_feaut,right_on=\"seller_id\",left_on=\"merchant_id\" ,how=\"left\")"
   ]
  },
  {
   "cell_type": "code",
   "execution_count": 53,
   "metadata": {},
   "outputs": [],
   "source": [
    "#删除用户，商铺特征提取表\n",
    "del user_feaut\n",
    "del shop_feaut"
   ]
  },
  {
   "cell_type": "code",
   "execution_count": 55,
   "metadata": {},
   "outputs": [
    {
     "output_type": "execute_result",
     "data": {
      "text/plain": [
       "user_id               0\n",
       "merchant_id           0\n",
       "label                 0\n",
       "total_log             0\n",
       "click_x             234\n",
       "add_car_x         31892\n",
       "buy_x                 9\n",
       "collect_x         17321\n",
       "seller_count          0\n",
       "item_count_x          0\n",
       "cat_count_x           0\n",
       "brand_count_x         0\n",
       "month_count           0\n",
       "day_count             0\n",
       "month_avg_log         0\n",
       "month_avg_buy         0\n",
       "day_avg_log           0\n",
       "day_avg_buy           0\n",
       "seller_id             0\n",
       "total_count           0\n",
       "click_y               0\n",
       "add_car_y         30638\n",
       "buy_y                 0\n",
       "collect_y            42\n",
       "user_count            0\n",
       "item_count_y          0\n",
       "cat_count_y           0\n",
       "brand_count_y         0\n",
       "month                 0\n",
       "month_avg_user        0\n",
       "less18            31719\n",
       "between18and24      295\n",
       "between25and29       19\n",
       "between30and34       13\n",
       "between35and39       72\n",
       "between40and49      126\n",
       "grate50            2205\n",
       "gender_F              0\n",
       "gender_M             37\n",
       "dtype: int64"
      ]
     },
     "metadata": {},
     "execution_count": 55
    }
   ],
   "source": [
    "user_merchant.isna().sum()"
   ]
  },
  {
   "cell_type": "code",
   "execution_count": null,
   "metadata": {},
   "outputs": [],
   "source": []
  }
 ]
}